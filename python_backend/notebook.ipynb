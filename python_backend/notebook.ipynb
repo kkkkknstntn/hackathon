{
 "cells": [
  {
   "cell_type": "code",
   "execution_count": null,
   "id": "initial_id",
   "metadata": {
    "collapsed": true
   },
   "outputs": [],
   "source": [
    "import os\n",
    "import json\n",
    "import glob\n",
    "\n"
   ]
  },
  {
   "metadata": {},
   "cell_type": "code",
   "outputs": [],
   "execution_count": null,
   "source": [
    "# Путь к директории с логами\n",
    "log_dir = './error'\n",
    "\n",
    "# Функция для чтения логов и их обработки\n",
    "def process_logs(log_dir):\n",
    "    logs = []\n",
    "\n",
    "    # Получаем все файлы в директории с логами\n",
    "    log_files = glob.glob(os.path.join(log_dir, '*'))\n",
    "\n",
    "    for file_path in log_files:\n",
    "        try:\n",
    "            # Чтение каждого файла\n",
    "            with open(file_path, 'r') as file:\n",
    "                log_data = file.read()\n",
    "\n",
    "            # Обработка содержимого лога (можно добавить дополнительную обработку)\n",
    "            log_entry = {\n",
    "                'file': file_path,\n",
    "                'content': log_data\n",
    "            }\n",
    "            logs.append(log_entry)\n",
    "\n",
    "        except Exception as e:\n",
    "            print(f\"Ошибка при обработке файла {file_path}: {e}\")\n",
    "\n",
    "    return logs\n",
    "\n",
    "# Сохранение данных в JSON файл\n",
    "def save_logs_to_json(logs, output_filename='logs.json'):\n",
    "    try:\n",
    "        # Запись данных в JSON\n",
    "        with open(output_filename, 'w') as json_file:\n",
    "            json.dump(logs, json_file, indent=4)\n",
    "        print(f\"Логи успешно сохранены в {output_filename}\")\n",
    "    except Exception as e:\n",
    "        print(f\"Ошибка при сохранении логов в JSON: {e}\")\n",
    "\n",
    "# Основная часть\n",
    "logs = process_logs(log_dir)\n",
    "save_logs_to_json(logs)\n"
   ],
   "id": "ae089e6ab2a9b89c"
  }
 ],
 "metadata": {
  "kernelspec": {
   "display_name": "Python 3",
   "language": "python",
   "name": "python3"
  },
  "language_info": {
   "codemirror_mode": {
    "name": "ipython",
    "version": 2
   },
   "file_extension": ".py",
   "mimetype": "text/x-python",
   "name": "python",
   "nbconvert_exporter": "python",
   "pygments_lexer": "ipython2",
   "version": "2.7.6"
  }
 },
 "nbformat": 4,
 "nbformat_minor": 5
}
