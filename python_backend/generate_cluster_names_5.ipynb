{
 "cells": [
  {
   "cell_type": "code",
   "execution_count": 1,
   "id": "3d62e5a4-0353-4a1b-aec9-c3014f6a6c73",
   "metadata": {
    "execution": {
     "iopub.execute_input": "2025-05-18T01:37:14.736709Z",
     "iopub.status.busy": "2025-05-18T01:37:14.735256Z",
     "iopub.status.idle": "2025-05-18T01:41:05.048519Z",
     "shell.execute_reply": "2025-05-18T01:41:05.046709Z",
     "shell.execute_reply.started": "2025-05-18T01:37:14.736654Z"
    },
    "tags": []
   },
   "outputs": [
    {
     "name": "stderr",
     "output_type": "stream",
     "text": [
      "/home/jupyter/.local/lib/python3.10/site-packages/transformers/utils/hub.py:105: FutureWarning: Using `TRANSFORMERS_CACHE` is deprecated and will be removed in v5 of Transformers. Use `HF_HOME` instead.\n",
      "  warnings.warn(\n",
      "2025-05-18 01:37:55.788775: I tensorflow/core/platform/cpu_feature_guard.cc:182] This TensorFlow binary is optimized to use available CPU instructions in performance-critical operations.\n",
      "To enable the following instructions: AVX2 FMA, in other operations, rebuild TensorFlow with the appropriate compiler flags.\n",
      "2025-05-18 01:38:06.758625: W tensorflow/compiler/tf2tensorrt/utils/py_utils.cc:38] TF-TRT Warning: Could not find TensorRT\n",
      "Device set to use cuda:0\n",
      "Your max_length is set to 1024, but your input_length is only 121. Since this is a summarization task, where outputs shorter than the input are typically wanted, you might consider decreasing max_length manually, e.g. summarizer('...', max_length=60)\n"
     ]
    },
    {
     "name": "stdout",
     "output_type": "stream",
     "text": [
      "СУММАРИЗАЦИЯ ТЕКСТА: Package 'bzip2', required by 'freetype2', not ... Package bzip2 was not found in the pkg-config ... Using default compression for debug info becau... -- Looking for backtrace Problem opening /proc/meminfo Problem opening /proc/meminfo Problem opening /proc/meminfo 2817 |         while (currentLine < endLine ||... 607 |             if (breakpoint >= aEnd) { -- Looking for sys/types.h - found\n"
     ]
    },
    {
     "name": "stderr",
     "output_type": "stream",
     "text": [
      "Your max_length is set to 1024, but your input_length is only 123. Since this is a summarization task, where outputs shorter than the input are typically wanted, you might consider decreasing max_length manually, e.g. summarizer('...', max_length=61)\n"
     ]
    },
    {
     "name": "stdout",
     "output_type": "stream",
     "text": [
      "СУММАРИЗАЦИЯ ТЕКСТА: checking for wsncpy... no checking for main in -lXmu... yes Making all in app-defaults In file included from DisplayCAL/RealDisplaySi... + find . -name '*.so' -print -delete Hunk #5 succeeded at 19537 (offset 52 lines). 2697 |     unsigned long*      /* bytes_after_... 724 |     unsigned long interval; Hunk #4 succeeded at 3272 (offset 15 lines). Hunk #3 succeeded at 3133 (offset 15 lines).\n"
     ]
    },
    {
     "name": "stderr",
     "output_type": "stream",
     "text": [
      "Your max_length is set to 1024, but your input_length is only 173. Since this is a summarization task, where outputs shorter than the input are typically wanted, you might consider decreasing max_length manually, e.g. summarizer('...', max_length=86)\n"
     ]
    },
    {
     "name": "stdout",
     "output_type": "stream",
     "text": [
      "СУММАРИЗАЦИЯ ТЕКСТА: Package 'bzip2', required by 'freetype2', not ... Package bzip2 was not found in the pkg-config ... 4765 | STBTT_DEF void stbtt_FreeSDF(unsigned c... 3989 | STBTT_DEF void stbtt_PackEnd  (stbtt_pa... 2317 | STBTT_DEF int  stbtt_GetKerningTableLen... to the PKG_CONFIG_PATH environment variable Problem opening /proc/meminfo 4947 | STBTT_DEF int stbtt_GetNumberOfFonts(co... 4005 | STBTT_DEF void stbtt_PackSetSkipMissing... 3708 | STBTT_DEF void stbtt_FreeBitmap(unsigne...\n"
     ]
    },
    {
     "name": "stderr",
     "output_type": "stream",
     "text": [
      "Your max_length is set to 1024, but your input_length is only 152. Since this is a summarization task, where outputs shorter than the input are typically wanted, you might consider decreasing max_length manually, e.g. summarizer('...', max_length=76)\n"
     ]
    },
    {
     "name": "stdout",
     "output_type": "stream",
     "text": [
      "СУММАРИЗАЦИЯ ТЕКСТА: checking for dlltool... no Compressing files in /usr/src/tmp/displaycal-b... error: Bad exit status from /usr/src/tmp/rpm-t... Hunk #3 succeeded at 3133 (offset 15 lines). Problem opening /proc/meminfo Command exited with non-zero status 1 Bad exit status from /usr/src/tmp/rpm-tmp.4024... checking dependency style of x86_64-alt-linux-... hsh-rebuild: rebuild of `libgibsonclient-1.0.0... 1097 |             XtCallCallbacks (w, XtNscro...\n"
     ]
    },
    {
     "name": "stderr",
     "output_type": "stream",
     "text": [
      "Your max_length is set to 1024, but your input_length is only 123. Since this is a summarization task, where outputs shorter than the input are typically wanted, you might consider decreasing max_length manually, e.g. summarizer('...', max_length=61)\n"
     ]
    },
    {
     "name": "stdout",
     "output_type": "stream",
     "text": [
      "СУММАРИЗАЦИЯ ТЕКСТА: Package 'bzip2', required by 'freetype2', not ... <86>May 17 05:02:38 groupadd[665616]: group ad... removed directory 'lib/third_party/capstone/co... to the PKG_CONFIG_PATH environment variable removed directory 'lib/third_party/yara' removed directory 'lib/third_party/nlohmann_js... Building for target x86_64 Problem opening /proc/meminfo Problem opening /proc/meminfo removed directory 'lib/third_party/capstone'\n"
     ]
    },
    {
     "name": "stderr",
     "output_type": "stream",
     "text": [
      "Your max_length is set to 1024, but your input_length is only 202. Since this is a summarization task, where outputs shorter than the input are typically wanted, you might consider decreasing max_length manually, e.g. summarizer('...', max_length=101)\n"
     ]
    },
    {
     "name": "stdout",
     "output_type": "stream",
     "text": [
      "СУММАРИЗАЦИЯ ТЕКСТА: /usr/bin/ranlib libwolv-utils.a 7755 | STBIDEF int stbi_is_16_bit_from_callbac... 7691 | STBIDEF int stbi_info(char const *filen... 5001 | STBIDEF void stbi_convert_iphone_png_to... 4557 | STBIDEF int stbi_zlib_decode_buffer(cha... 1581 | STBIDEF void   stbi_hdr_to_ldr_gamma(fl... 1559 | STBIDEF int      stbi_is_hdr_from_callb... 1493 | STBIDEF float *stbi_loadf(char const *f... 972 | STBIDEF const char *stbi_failure_reason(... [  9%] Built target plutovg\n"
     ]
    },
    {
     "name": "stderr",
     "output_type": "stream",
     "text": [
      "Your max_length is set to 1024, but your input_length is only 267. Since this is a summarization task, where outputs shorter than the input are typically wanted, you might consider decreasing max_length manually, e.g. summarizer('...', max_length=133)\n"
     ]
    },
    {
     "name": "stdout",
     "output_type": "stream",
     "text": [
      "СУММАРИЗАЦИЯ ТЕКСТА: 48 |         strncpy(path, filename, MAX_PATH); /usr/bin/ranlib libLLVMDemangle.a 170 |                         if (value.size()... 317 |         Int32 _buffer_size; 2024 |             while (cindex < line.size()... 335 |                 while (_rounds < rounds) 139 |                 for (i = 0; i < _hash.si... 85 |                         if (value.size() ... 537 |                 t = d & (f & e ^ g ^ a) ... 83 |                         if (value.size() ...\n"
     ]
    },
    {
     "name": "stderr",
     "output_type": "stream",
     "text": [
      "Your max_length is set to 1024, but your input_length is only 324. Since this is a summarization task, where outputs shorter than the input are typically wanted, you might consider decreasing max_length manually, e.g. summarizer('...', max_length=162)\n"
     ]
    },
    {
     "name": "stdout",
     "output_type": "stream",
     "text": [
      "СУММАРИЗАЦИЯ ТЕКСТА: 1496 |                 t = a & (f & h ^ g ^ b)... 977 |                 t = c & (g & e ^ f ^ b) ... 1516 |                 t = d & (a & c ^ b ^ e)... 1516 |                 t = d & (a & c ^ b ^ e)... 1488 |                 t = c & (h & b ^ a ^ d)... 1496 |                 t = a & (f & h ^ g ^ b)... 977 |                 t = c & (g & e ^ f ^ b) ... 1488 |                 t = c & (h & b ^ a ^ d)... 1496 |                 t = a & (f & h ^ g ^ b)... 1484 |                 t = d & (a & c ^ b ^ e)...\n"
     ]
    },
    {
     "name": "stderr",
     "output_type": "stream",
     "text": [
      "Your max_length is set to 1024, but your input_length is only 195. Since this is a summarization task, where outputs shorter than the input are typically wanted, you might consider decreasing max_length manually, e.g. summarizer('...', max_length=97)\n"
     ]
    },
    {
     "name": "stdout",
     "output_type": "stream",
     "text": [
      "СУММАРИЗАЦИЯ ТЕКСТА: checking for library containing opendir... non... /usr/src/in/srpm/java3d-1.5.2-alt6_15jpp8.src.... 1138 |             (void) tmpnam(src->multi_sr... 1080 |             XtCallCallbacks (w, XtNscro... checking for wslen... no checking for wsncpy... no error: Bad exit status from /usr/src/tmp/rpm-t... 1117 |             XtCallCallbacks (w, XtNscro... make[2]: *** [Makefile:552: laygram.lo] Error 1 159 |     if (extContext == (XContext)NULL) ex...\n"
     ]
    },
    {
     "name": "stderr",
     "output_type": "stream",
     "text": [
      "Your max_length is set to 1024, but your input_length is only 160. Since this is a summarization task, where outputs shorter than the input are typically wanted, you might consider decreasing max_length manually, e.g. summarizer('...', max_length=80)\n"
     ]
    },
    {
     "name": "stdout",
     "output_type": "stream",
     "text": [
      "СУММАРИЗАЦИЯ ТЕКСТА: Problem opening /proc/meminfo Package libidn2 was not found in the pkg-confi... 7748 | STBIDEF int stbi_is_16_bit_from_memory(... Compatibility with CMake < 3.5 has been remove... Package 'libidn2', required by 'libcurl', not ... 7691 | STBIDEF int stbi_info(char const *filen... error: Bad exit status from /usr/src/tmp/rpm-t... Package 'libidn2', required by 'libcurl', not ... 5001 | STBIDEF void stbi_convert_iphone_png_to... to tell CMake that the project requires at lea...\n"
     ]
    },
    {
     "name": "stderr",
     "output_type": "stream",
     "text": [
      "You seem to be using the pipelines sequentially on GPU. In order to maximize efficiency please use a dataset\n",
      "Your max_length is set to 1024, but your input_length is only 134. Since this is a summarization task, where outputs shorter than the input are typically wanted, you might consider decreasing max_length manually, e.g. summarizer('...', max_length=67)\n"
     ]
    },
    {
     "name": "stdout",
     "output_type": "stream",
     "text": [
      "СУММАРИЗАЦИЯ ТЕКСТА: 236 | static const char* ImGui_ImplGlfw_GetCli... 4005 | STBTT_DEF void stbtt_PackSetSkipMissing... [  2%] Built target microtar 4765 | STBTT_DEF void stbtt_FreeSDF(unsigned c... Command exited with non-zero status 1 [  3%] Built target imgui_backend -- Performing Test COMPILER_HAS_DEPRECATED_ATTR checking for stdio.h... yes [  2%] Built target CLI11 checking command to parse /usr/bin/nm -B outpu...\n"
     ]
    },
    {
     "name": "stderr",
     "output_type": "stream",
     "text": [
      "Your max_length is set to 1024, but your input_length is only 184. Since this is a summarization task, where outputs shorter than the input are typically wanted, you might consider decreasing max_length manually, e.g. summarizer('...', max_length=92)\n"
     ]
    },
    {
     "name": "stdout",
     "output_type": "stream",
     "text": [
      "СУММАРИЗАЦИЯ ТЕКСТА: Building for target x86_64 Hunk #1 succeeded at 889 (offset 2 lines). Hunk #2 succeeded at 1995 (offset -96 lines). Hunk #1 succeeded at 1652 (offset -96 lines). /usr/src/RPM/BUILD/apache-maven-3.8.8/maven-re... /usr/src/RPM/BUILD/apache-maven-3.8.8/maven-re... /usr/src/RPM/BUILD/apache-maven-3.8.8/maven-re... Hunk #2 succeeded at 272 (offset 5 lines). hsh-rebuild: rebuild of `gpm-1.20.1-alt19.src.... <86>May 17 01:48:52 userdel[2957211]: removed ...\n"
     ]
    },
    {
     "name": "stderr",
     "output_type": "stream",
     "text": [
      "Your max_length is set to 1024, but your input_length is only 206. Since this is a summarization task, where outputs shorter than the input are typically wanted, you might consider decreasing max_length manually, e.g. summarizer('...', max_length=103)\n"
     ]
    },
    {
     "name": "stdout",
     "output_type": "stream",
     "text": [
      "СУММАРИЗАЦИЯ ТЕКСТА: /usr/src/RPM/BUILD/maven-common-artifact-filte... In file included from ../sdl/libretro/compiler... In file included from /usr/include/stdio.h:970, 139 | static uint32_t RGBtoXYZ(const uint32_t ... 107 | BRESULT iocore_attachout(UINT port, IOOU... 6450 | static REG8 IOINPCALL cirrusvga_ifab(UI... 6525 | static REG8 IOINPCALL cirrusvga_iff82(U... 7012 |                         iocore_attachou... 107 | BRESULT iocore_attachout(UINT port, IOOU... 109 | BRESULT iocore_attachinp(UINT port, IOIN...\n"
     ]
    },
    {
     "name": "stderr",
     "output_type": "stream",
     "text": [
      "Your max_length is set to 1024, but your input_length is only 163. Since this is a summarization task, where outputs shorter than the input are typically wanted, you might consider decreasing max_length manually, e.g. summarizer('...', max_length=81)\n"
     ]
    },
    {
     "name": "stdout",
     "output_type": "stream",
     "text": [
      "СУММАРИЗАЦИЯ ТЕКСТА: Command exited with non-zero status 1 505 |     while (index < line.size() && column... 949 |                 t = b & (f & d ^ e ^ a) ... 639 |         if (breakpoint > aIndex) { /usr/bin/ranlib libromfs-imhex.a hsh-install: Failed to calculate package file ... 619 | STBIWDEF int stbi_write_tga(char const *... Command exited with non-zero status 1 [ 10%] Built target LLVMDemangle <86>May 17 05:02:38 userdel[665748]: removed s...\n"
     ]
    },
    {
     "name": "stderr",
     "output_type": "stream",
     "text": [
      "Your max_length is set to 1024, but your input_length is only 249. Since this is a summarization task, where outputs shorter than the input are typically wanted, you might consider decreasing max_length manually, e.g. summarizer('...', max_length=124)\n"
     ]
    },
    {
     "name": "stdout",
     "output_type": "stream",
     "text": [
      "СУММАРИЗАЦИЯ ТЕКСТА: 109 | BRESULT iocore_attachinp(UINT port, IOIN... 474 | static REG8 IOINPCALL ym_i1489(UINT port... 455 | static void IOOUTCALL ym_o148a(UINT port... 109 | BRESULT iocore_attachinp(UINT port, IOIN... |                                             ... 60 | static void IOOUTCALL opl2_o18e(UINT port... In file included from ../io/iocore.h:36, 15 |         OPN_CHMASK              = 0x80000... 16 |         OPN_STEREO              = 0x80000... 48 | inst##4(UINT32 src, void *arg) \\\n"
     ]
    },
    {
     "name": "stderr",
     "output_type": "stream",
     "text": [
      "Your max_length is set to 1024, but your input_length is only 146. Since this is a summarization task, where outputs shorter than the input are typically wanted, you might consider decreasing max_length manually, e.g. summarizer('...', max_length=73)\n"
     ]
    },
    {
     "name": "stdout",
     "output_type": "stream",
     "text": [
      "СУММАРИЗАЦИЯ ТЕКСТА: [ 15%] Built target generator-diffing In file included from /usr/src/RPM/BUILD/imhex... [ 13%] Linking CXX executable generator-builtin [ 18%] Built target imgui_imgui [ 15%] Built target romfs_file_packer-diffing 319 |         Int32 _hash_size; 319 |         Int32 _hash_size; [ 13%] Linking CXX executable generator-diffing 317 |         Int32 _buffer_size; 317 |         Int32 _buffer_size;\n"
     ]
    },
    {
     "name": "stderr",
     "output_type": "stream",
     "text": [
      "Your max_length is set to 1024, but your input_length is only 128. Since this is a summarization task, where outputs shorter than the input are typically wanted, you might consider decreasing max_length manually, e.g. summarizer('...', max_length=64)\n"
     ]
    },
    {
     "name": "stdout",
     "output_type": "stream",
     "text": [
      "СУММАРИЗАЦИЯ ТЕКСТА: + configure_runstatedir_flags= checking for x86_64-alt-linux-gcc option to en... -- Looking for stdint.h to the PKG_CONFIG_PATH environment variable to the PKG_CONFIG_PATH environment variable checking for suffix of object files... o to the PKG_CONFIG_PATH environment variable error: Bad exit status from /usr/src/tmp/rpm-t... -- Could NOT find BZip2 (missing: BZIP2_LIBRAR... Package 'bzip2', required by 'freetype2', not ...\n"
     ]
    },
    {
     "name": "stderr",
     "output_type": "stream",
     "text": [
      "Your max_length is set to 1024, but your input_length is only 138. Since this is a summarization task, where outputs shorter than the input are typically wanted, you might consider decreasing max_length manually, e.g. summarizer('...', max_length=69)\n"
     ]
    },
    {
     "name": "stdout",
     "output_type": "stream",
     "text": [
      "СУММАРИЗАЦИЯ ТЕКСТА: 159 |     if (extContext == (XContext)NULL) ex... make[2]: *** [Makefile:552: laygram.lo] Error 1 -- Looking for stddef.h - found 82 | static int round(); Problem opening /proc/meminfo Problem opening /proc/meminfo 5001 | STBIDEF void stbi_convert_iphone_png_to... [  3%] Built target imgui_backend -- Could NOT find BZip2 (missing: BZIP2_LIBRAR... make[2]: *** [Makefile:552: laylex.lo] Error 1\n"
     ]
    },
    {
     "name": "stderr",
     "output_type": "stream",
     "text": [
      "Your max_length is set to 1024, but your input_length is only 142. Since this is a summarization task, where outputs shorter than the input are typically wanted, you might consider decreasing max_length manually, e.g. summarizer('...', max_length=71)\n"
     ]
    },
    {
     "name": "stdout",
     "output_type": "stream",
     "text": [
      "СУММАРИЗАЦИЯ ТЕКСТА: -- Could NOT find LZ4 (missing: LZ4_LIBRARY LZ... [  9%] Built target plutovg [ 13%] Linking CXX executable generator-builtin -- Could NOT find ZSTD (missing: ZSTD_LIBRARY ... [ 12%] Built target edlib 319 |         Int32 _hash_size; -- Looking for backtrace 262 | STBIWDEF void stbi_flip_vertically_on_wr... Package 'libidn2', required by 'libcurl', not ... 317 |         Int32 _buffer_size;\n"
     ]
    },
    {
     "name": "stderr",
     "output_type": "stream",
     "text": [
      "Your max_length is set to 1024, but your input_length is only 152. Since this is a summarization task, where outputs shorter than the input are typically wanted, you might consider decreasing max_length manually, e.g. summarizer('...', max_length=76)\n"
     ]
    },
    {
     "name": "stdout",
     "output_type": "stream",
     "text": [
      "СУММАРИЗАЦИЯ ТЕКСТА: In file included from DisplayCAL/RealDisplaySi... Command exited with non-zero status 1 Compressing files in /usr/src/tmp/displaycal-b... + find . -name '*.so' -print -delete Splitting links to aliased files under /{,s}bi... /usr/src/in/srpm/java3d-1.5.2-alt6_15jpp8.src.... In file included from /usr/include/python3.12/... E: Couldn't find package jogl hsh-install: Failed to calculate package file ... 2697 |     unsigned long*      /* bytes_after_...\n"
     ]
    },
    {
     "name": "stderr",
     "output_type": "stream",
     "text": [
      "Your max_length is set to 1024, but your input_length is only 158. Since this is a summarization task, where outputs shorter than the input are typically wanted, you might consider decreasing max_length manually, e.g. summarizer('...', max_length=79)\n"
     ]
    },
    {
     "name": "stdout",
     "output_type": "stream",
     "text": [
      "СУММАРИЗАЦИЯ ТЕКСТА: Using default compression for debug info becau... Problem opening /proc/meminfo 476 |     while (i < line.size() && c < aCoord... [ 30%] Built target libromfs-diffing [ 35%] Built target lunasvg 485 |                 t = a & (c & b ^ d ^ f) ... 1496 |                 t = a & (f & h ^ g ^ b)... Building for target x86_64 Bad exit status from /usr/src/tmp/rpm-tmp.7472... checking for inet_ntoa... yes\n"
     ]
    },
    {
     "name": "stderr",
     "output_type": "stream",
     "text": [
      "Your max_length is set to 1024, but your input_length is only 169. Since this is a summarization task, where outputs shorter than the input are typically wanted, you might consider decreasing max_length manually, e.g. summarizer('...', max_length=84)\n"
     ]
    },
    {
     "name": "stdout",
     "output_type": "stream",
     "text": [
      "СУММАРИЗАЦИЯ ТЕКСТА: Problem opening /proc/meminfo Command exited with non-zero status 1 -- Could NOT find BZip2 (missing: BZIP2_LIBRAR... -- Could NOT find ZSTD (missing: ZSTD_LIBRARY ... 537 |                 t = d & (f & e ^ g ^ a) ... removed directory 'lib/third_party/capstone/co... removed directory 'lib/third_party/capstone' 577 |                 t = b & (d & c ^ e ^ g) ... error: Bad exit status from /usr/src/tmp/rpm-t... Command exited with non-zero status 1\n"
     ]
    },
    {
     "name": "stderr",
     "output_type": "stream",
     "text": [
      "Your max_length is set to 1024, but your input_length is only 308. Since this is a summarization task, where outputs shorter than the input are typically wanted, you might consider decreasing max_length manually, e.g. summarizer('...', max_length=154)\n"
     ]
    },
    {
     "name": "stdout",
     "output_type": "stream",
     "text": [
      "СУММАРИЗАЦИЯ ТЕКСТА: 1596 |                 t = h & (e & g ^ f ^ a)... 1588 |                 t = b & (g & a ^ h ^ c)... 1484 |                 t = d & (a & c ^ b ^ e)... 1596 |                 t = h & (e & g ^ f ^ a)... 585 |                 t = h & (b & a ^ c ^ e) ... 1588 |                 t = b & (g & a ^ h ^ c)... 945 |                 t = c & (g & e ^ f ^ b) ... 1588 |                 t = b & (g & a ^ h ^ c)... 585 |                 t = h & (b & a ^ c ^ e) ... make: *** [Makefile:62: do-all] Error 1\n"
     ]
    },
    {
     "name": "stderr",
     "output_type": "stream",
     "text": [
      "Your max_length is set to 1024, but your input_length is only 142. Since this is a summarization task, where outputs shorter than the input are typically wanted, you might consider decreasing max_length manually, e.g. summarizer('...', max_length=71)\n"
     ]
    },
    {
     "name": "stdout",
     "output_type": "stream",
     "text": [
      "СУММАРИЗАЦИЯ ТЕКСТА: Package 'bzip2', required by 'freetype2', not ... 317 |         Int32 _buffer_size; checking for wsncpy... no -- Could NOT find LibLZMA (missing: LIBLZMA_LI... Hunk #1 succeeded at 500 (offset 3 lines). Package libidn2 was not found in the pkg-confi... Package bzip2 was not found in the pkg-config ... Bad exit status from /usr/src/tmp/rpm-tmp.4024... Command exited with non-zero status 1 Hunk #1 succeeded at 30 (offset -1 lines).\n"
     ]
    },
    {
     "name": "stderr",
     "output_type": "stream",
     "text": [
      "Your max_length is set to 1024, but your input_length is only 190. Since this is a summarization task, where outputs shorter than the input are typically wanted, you might consider decreasing max_length manually, e.g. summarizer('...', max_length=95)\n"
     ]
    },
    {
     "name": "stdout",
     "output_type": "stream",
     "text": [
      "СУММАРИЗАЦИЯ ТЕКСТА: [ 12%] Built target edlib 1531 | STBIDEF int      stbi_is_hdr          (... [ 13%] Linking CXX executable generator-decomp... removed directory 'lib/third_party/capstone' Building for target x86_64 63 |                 } catch (const fmt::forma... 1102 |                 _XtCopyFromArg(arg->value, 537 |                 t = d & (f & e ^ g ^ a) ... [ 34%] Built target libromfs-script_loader 538 | FMT_DEPRECATED inline auto localtime(std...\n"
     ]
    },
    {
     "name": "stderr",
     "output_type": "stream",
     "text": [
      "Your max_length is set to 1024, but your input_length is only 128. Since this is a summarization task, where outputs shorter than the input are typically wanted, you might consider decreasing max_length manually, e.g. summarizer('...', max_length=64)\n"
     ]
    },
    {
     "name": "stdout",
     "output_type": "stream",
     "text": [
      "СУММАРИЗАЦИЯ ТЕКСТА: checking for stdio.h... yes checking for stdlib.h... yes checking for stdint.h... yes checking for unistd.h... yes checking for minix/config.h... no checking for x86_64-alt-linux-gcc option to en... 103 |         zx81.romcrc=CRC32Block(memory,ro... 148 | static int soundfd=-1; 42 |         static int phase, fetchdata; Hunk #4 succeeded at 3272 (offset 15 lines).\n"
     ]
    },
    {
     "name": "stderr",
     "output_type": "stream",
     "text": [
      "Your max_length is set to 1024, but your input_length is only 113. Since this is a summarization task, where outputs shorter than the input are typically wanted, you might consider decreasing max_length manually, e.g. summarizer('...', max_length=56)\n"
     ]
    },
    {
     "name": "stdout",
     "output_type": "stream",
     "text": [
      "СУММАРИЗАЦИЯ ТЕКСТА: checking for x86_64-alt-linux-file... no checking for sysroot... no hsh-rebuild: rebuild of `indexhtml-common-0.6.... Building for target x86_64 checking command to parse /usr/bin/nm -B outpu... checking for sys/mkdev.h... no CMake Error at CMakeLists.txt:1 (cmake_minimum... checking for stdio.h... yes checking for wcslen... yes Command exited with non-zero status 1\n"
     ]
    },
    {
     "name": "stderr",
     "output_type": "stream",
     "text": [
      "Your max_length is set to 1024, but your input_length is only 188. Since this is a summarization task, where outputs shorter than the input are typically wanted, you might consider decreasing max_length manually, e.g. summarizer('...', max_length=94)\n"
     ]
    },
    {
     "name": "stdout",
     "output_type": "stream",
     "text": [
      "СУММАРИЗАЦИЯ ТЕКСТА: 5001 | STBIDEF void stbi_convert_iphone_png_to... 4557 | STBIDEF int stbi_zlib_decode_buffer(cha... 476 |     while (i < line.size() && c < aCoord... In file included from /usr/src/RPM/BUILD/imhex... 319 |         Int32 _hash_size; [ 12%] Built target edlib 317 |         Int32 _buffer_size; 606 |         if (breakpoint <= aStart || brea... 2549 |     String defaultSel = \"PRIMARY\"; 1576 | STBIDEF void   stbi_ldr_to_hdr_scale(fl...\n"
     ]
    },
    {
     "name": "stderr",
     "output_type": "stream",
     "text": [
      "Your max_length is set to 1024, but your input_length is only 169. Since this is a summarization task, where outputs shorter than the input are typically wanted, you might consider decreasing max_length manually, e.g. summarizer('...', max_length=84)\n"
     ]
    },
    {
     "name": "stdout",
     "output_type": "stream",
     "text": [
      "СУММАРИЗАЦИЯ ТЕКСТА: /usr/src/in/srpm/java3d-1.5.2-alt6_15jpp8.src.... 1080 |             XtCallCallbacks (w, XtNscro... 82 | static int round(); In file included from DisplayCAL/RealDisplaySi... checking for wcslen... yes make: *** [Makefile:382: all-recursive] Error 1 1383 |     if (errContext != (XContext)NULL && make[2]: *** [Makefile:552: XawIm.lo] Error 1 Hunk #2 succeeded at 812 (offset 45 lines). make[2]: *** [Makefile:552: laygram.lo] Error 1\n"
     ]
    },
    {
     "name": "stderr",
     "output_type": "stream",
     "text": [
      "Your max_length is set to 1024, but your input_length is only 171. Since this is a summarization task, where outputs shorter than the input are typically wanted, you might consider decreasing max_length manually, e.g. summarizer('...', max_length=85)\n"
     ]
    },
    {
     "name": "stdout",
     "output_type": "stream",
     "text": [
      "СУММАРИЗАЦИЯ ТЕКСТА: -- Detecting C compiler ABI info - done -- Looking for stdint.h <86>May 17 05:03:02 groupadd[725678]: group ad... 139 |                 for (i = 0; i < _hash.si... 317 |         Int32 _buffer_size; 1517 | STBIDEF int stbi_is_hdr_from_memory(stb... Problem opening /proc/meminfo Problem opening /proc/meminfo /usr/bin/ranlib libromfs-diffing.a 197 |                         if (value.size()...\n"
     ]
    },
    {
     "name": "stderr",
     "output_type": "stream",
     "text": [
      "Your max_length is set to 1024, but your input_length is only 137. Since this is a summarization task, where outputs shorter than the input are typically wanted, you might consider decreasing max_length manually, e.g. summarizer('...', max_length=68)\n"
     ]
    },
    {
     "name": "stdout",
     "output_type": "stream",
     "text": [
      "СУММАРИЗАЦИЯ ТЕКСТА: checking dependency style of x86_64-alt-linux-... Hunk #1 succeeded at 30 (offset -1 lines). Building for target x86_64 Command exited with non-zero status 1 checking for x86_64-alt-linux-ar... no 1097 |             XtCallCallbacks (w, XtNscro... make: *** [Makefile:382: all-recursive] Error 1 checking for gethostbyname... yes <86>May 17 03:22:30 groupadd[95418]: group add... Building for target x86_64\n"
     ]
    },
    {
     "name": "stderr",
     "output_type": "stream",
     "text": [
      "Your max_length is set to 1024, but your input_length is only 150. Since this is a summarization task, where outputs shorter than the input are typically wanted, you might consider decreasing max_length manually, e.g. summarizer('...', max_length=75)\n"
     ]
    },
    {
     "name": "stdout",
     "output_type": "stream",
     "text": [
      "СУММАРИЗАЦИЯ ТЕКСТА: Compatibility with CMake < 3.5 has been remove... In file included from ../i386c/cpucore.h:4, 132 | static REG8 IOINPCALL srnf_i51ee(UINT po... 489 |         return(Data); Command exited with non-zero status 1 328 |         Tape[CurBlock].SymDefD=SymDefD; CMake Error at CMakeLists.txt:1 (cmake_minimum... 156 |         int BlockType; Command exited with non-zero status 1 615 |   register int i, c;\n"
     ]
    },
    {
     "name": "stderr",
     "output_type": "stream",
     "text": [
      "Your max_length is set to 1024, but your input_length is only 160. Since this is a summarization task, where outputs shorter than the input are typically wanted, you might consider decreasing max_length manually, e.g. summarizer('...', max_length=80)\n"
     ]
    },
    {
     "name": "stdout",
     "output_type": "stream",
     "text": [
      "СУММАРИЗАЦИЯ ТЕКСТА: checking for wslen... no 1117 |             XtCallCallbacks (w, XtNscro... Compatibility with CMake < 3.5 has been remove... checking for suffix of object files... o checking for mt... no checking for wscpy... no 1134 |             XtCallCallbacks (w, XtNscro... Bad exit status from /usr/src/tmp/rpm-tmp.564 ... Hunk #5 succeeded at 19537 (offset 52 lines). /usr/src/in/srpm/java3d-1.5.2-alt6_15jpp8.src....\n"
     ]
    },
    {
     "name": "stderr",
     "output_type": "stream",
     "text": [
      "Your max_length is set to 1024, but your input_length is only 213. Since this is a summarization task, where outputs shorter than the input are typically wanted, you might consider decreasing max_length manually, e.g. summarizer('...', max_length=106)\n"
     ]
    },
    {
     "name": "stdout",
     "output_type": "stream",
     "text": [
      "СУММАРИЗАЦИЯ ТЕКСТА: 236 | static const char* ImGui_ImplGlfw_GetCli... 7755 | STBIDEF int stbi_is_16_bit_from_callbac... 7748 | STBIDEF int stbi_is_16_bit_from_memory(... 7712 | STBIDEF int stbi_is_16_bit(char const *... 7691 | STBIDEF int stbi_info(char const *filen... 5019 | STBIDEF void stbi_convert_iphone_png_to... 5013 | STBIDEF void stbi_set_unpremultiply_on_... 5001 | STBIDEF void stbi_convert_iphone_png_to... 4996 | STBIDEF void stbi_set_unpremultiply_on_... 4568 | STBIDEF char *stbi_zlib_decode_noheader...\n"
     ]
    },
    {
     "name": "stderr",
     "output_type": "stream",
     "text": [
      "Your max_length is set to 1024, but your input_length is only 129. Since this is a summarization task, where outputs shorter than the input are typically wanted, you might consider decreasing max_length manually, e.g. summarizer('...', max_length=64)\n"
     ]
    },
    {
     "name": "stdout",
     "output_type": "stream",
     "text": [
      "СУММАРИЗАЦИЯ ТЕКСТА: hsh-rebuild: rebuild of `manaworld-0.5.2-alt5_... Command exited with non-zero status 1 CMake Error at CMakeLists.txt:1 (cmake_minimum... Compatibility with CMake < 3.5 has been remove... checking return type of signal handlers... void checking for ftruncate... yes checking for strdup... yes checking for strerror... yes 144 |   const char* value; 78 |         zx81.romcrc=CRC32Block(memory,rom...\n"
     ]
    },
    {
     "name": "stderr",
     "output_type": "stream",
     "text": [
      "Your max_length is set to 1024, but your input_length is only 138. Since this is a summarization task, where outputs shorter than the input are typically wanted, you might consider decreasing max_length manually, e.g. summarizer('...', max_length=69)\n"
     ]
    },
    {
     "name": "stdout",
     "output_type": "stream",
     "text": [
      "СУММАРИЗАЦИЯ ТЕКСТА: -- Looking for stdint.h - found make[2]: *** [Makefile:552: XawIm.lo] Error 1 removed directory 'lib/third_party/capstone/co... Package 'libidn2', required by 'libcurl', not ... checking for main in -lXext... yes <86>May 17 03:22:30 groupadd[95418]: group add... -- backtrace facility detected in default set ... make: *** [Makefile:382: all-recursive] Error 1 In file included from /usr/include/python3.12/... Failed to to determine commit hash/branch\n"
     ]
    },
    {
     "name": "stderr",
     "output_type": "stream",
     "text": [
      "Your max_length is set to 1024, but your input_length is only 118. Since this is a summarization task, where outputs shorter than the input are typically wanted, you might consider decreasing max_length manually, e.g. summarizer('...', max_length=59)\n"
     ]
    },
    {
     "name": "stdout",
     "output_type": "stream",
     "text": [
      "СУММАРИЗАЦИЯ ТЕКСТА: checking for x86_64-alt-linux-gcc option to en... checking for library containing strerror... no... checking for C compiler default output file na... Building for target x86_64 checking for x86_64-alt-linux-objdump... no checking for dlltool... no checking for x86_64-alt-linux-strip... no checking command to parse /usr/bin/nm -B outpu... checking for x86_64-alt-linux-mt... no checking for stdio.h... yes\n"
     ]
    },
    {
     "name": "stderr",
     "output_type": "stream",
     "text": [
      "Your max_length is set to 1024, but your input_length is only 112. Since this is a summarization task, where outputs shorter than the input are typically wanted, you might consider decreasing max_length manually, e.g. summarizer('...', max_length=56)\n"
     ]
    },
    {
     "name": "stdout",
     "output_type": "stream",
     "text": [
      "СУММАРИЗАЦИЯ ТЕКСТА: Problem opening /proc/meminfo Compatibility with CMake < 3.5 has been remove... removed directory 'lib/third_party/capstone/co... -- Configuring incomplete, errors occurred! Bad exit status from /usr/src/tmp/rpm-tmp.1453... Command exited with non-zero status 1 Building for target x86_64 hsh-rebuild: rebuild of `displaycal-3.9.14-alt... Command exited with non-zero status 1 Command exited with non-zero status 1\n"
     ]
    },
    {
     "name": "stderr",
     "output_type": "stream",
     "text": [
      "Your max_length is set to 1024, but your input_length is only 174. Since this is a summarization task, where outputs shorter than the input are typically wanted, you might consider decreasing max_length manually, e.g. summarizer('...', max_length=87)\n"
     ]
    },
    {
     "name": "stdout",
     "output_type": "stream",
     "text": [
      "СУММАРИЗАЦИЯ ТЕКСТА: 1556 |                 t = b & (g & a ^ h ^ c)... Command exited with non-zero status 1 Problem opening /proc/meminfo -- Looking for backtrace - found Package 'bzip2', required by 'freetype2', not ... [  8%] Built target imgui_cimgui 262 | STBIWDEF void stbi_flip_vertically_on_wr... 319 |         Int32 _hash_size; 2512 |         auto selectionEnd = editor->mSt... 219 |                         if (value.size()...\n"
     ]
    },
    {
     "name": "stderr",
     "output_type": "stream",
     "text": [
      "Your max_length is set to 1024, but your input_length is only 255. Since this is a summarization task, where outputs shorter than the input are typically wanted, you might consider decreasing max_length manually, e.g. summarizer('...', max_length=127)\n"
     ]
    },
    {
     "name": "stdout",
     "output_type": "stream",
     "text": [
      "СУММАРИЗАЦИЯ ТЕКСТА: 7149 |                 iocore_attachout(0x40E1... 94 |         Value& operator= (Hex in) throw(W... 109 | BRESULT iocore_attachinp(UINT port, IOIN... /usr/src/RPM/BUILD/maven-common-artifact-filte... 97 |         Value& operator= (double in) thro... |                             TCHAR * {aka int *} 170 |     if (reset_req.boot_basic != (int)p) { 98 |         Value& operator= (std::string con... 755 |                         iocore_attachinp... /usr/src/RPM/BUILD/maven-common-artifact-filte...\n"
     ]
    },
    {
     "name": "stderr",
     "output_type": "stream",
     "text": [
      "Your max_length is set to 1024, but your input_length is only 119. Since this is a summarization task, where outputs shorter than the input are typically wanted, you might consider decreasing max_length manually, e.g. summarizer('...', max_length=59)\n"
     ]
    },
    {
     "name": "stdout",
     "output_type": "stream",
     "text": [
      "СУММАРИЗАЦИЯ ТЕКСТА: Command exited with non-zero status 1 Hunk #3 succeeded at 3133 (offset 15 lines). Hunk #4 succeeded at 3272 (offset 15 lines). Problem opening /proc/meminfo Hunk #5 succeeded at 19537 (offset 52 lines). + find . -name '*.so' -print -delete Hunk #2 succeeded at 588 (offset 4 lines). Hunk #1 succeeded at 500 (offset 3 lines). Bad exit status from /usr/src/tmp/rpm-tmp.8551... Building for target x86_64\n"
     ]
    },
    {
     "name": "stderr",
     "output_type": "stream",
     "text": [
      "Your max_length is set to 1024, but your input_length is only 159. Since this is a summarization task, where outputs shorter than the input are typically wanted, you might consider decreasing max_length manually, e.g. summarizer('...', max_length=79)\n"
     ]
    },
    {
     "name": "stdout",
     "output_type": "stream",
     "text": [
      "СУММАРИЗАЦИЯ ТЕКСТА: Compatibility with CMake < 3.5 has been remove... Problem opening /proc/meminfo Failed to to determine commit hash/branch 83 |                 UInt32 sum = 0, index = 0; 1496 |                 t = a & (f & h ^ g ^ b)... Building for target x86_64 Problem opening /proc/meminfo CMake Error at CMakeLists.txt:1 (cmake_minimum... <86>May 17 05:02:38 groupadd[665616]: group ad... Package 'libidn2', required by 'libcurl', not ...\n"
     ]
    },
    {
     "name": "stderr",
     "output_type": "stream",
     "text": [
      "Your max_length is set to 1024, but your input_length is only 100. Since this is a summarization task, where outputs shorter than the input are typically wanted, you might consider decreasing max_length manually, e.g. summarizer('...', max_length=50)\n"
     ]
    },
    {
     "name": "stdout",
     "output_type": "stream",
     "text": [
      "СУММАРИЗАЦИЯ ТЕКСТА: Problem opening /proc/meminfo Package libidn2 was not found in the pkg-confi... -- Looking for backtrace -- Looking for stddef.h Package 'libidn2', required by 'libcurl', not ... Problem opening /proc/meminfo -- Looking for stdint.h Package 'libidn2', required by 'libcurl', not ... -- Looking for backtrace - found -- Looking for stdint.h - found\n"
     ]
    },
    {
     "name": "stderr",
     "output_type": "stream",
     "text": [
      "Your max_length is set to 1024, but your input_length is only 135. Since this is a summarization task, where outputs shorter than the input are typically wanted, you might consider decreasing max_length manually, e.g. summarizer('...', max_length=67)\n"
     ]
    },
    {
     "name": "stdout",
     "output_type": "stream",
     "text": [
      "СУММАРИЗАЦИЯ ТЕКСТА: [ 18%] Built target imgui_imgui 5001 | STBIDEF void stbi_convert_iphone_png_to... Building for target x86_64 removed directory 'lib/third_party/capstone/in... <86>May 17 05:02:38 groupadd[665616]: group ad... Building for target x86_64 checking for wslen... no hsh-rebuild: rebuild of `fcitx5-sayura-5.1.0-a... Command exited with non-zero status 1 removed directory 'lib/third_party/capstone/co...\n"
     ]
    },
    {
     "name": "stderr",
     "output_type": "stream",
     "text": [
      "Your max_length is set to 1024, but your input_length is only 171. Since this is a summarization task, where outputs shorter than the input are typically wanted, you might consider decreasing max_length manually, e.g. summarizer('...', max_length=85)\n"
     ]
    },
    {
     "name": "stdout",
     "output_type": "stream",
     "text": [
      "СУММАРИЗАЦИЯ ТЕКСТА: removed directory 'lib/third_party/capstone/co... 1575 | STBIDEF void   stbi_ldr_to_hdr_gamma(fl... removed directory 'lib/third_party/capstone/co... 1581 | STBIDEF void   stbi_hdr_to_ldr_gamma(fl... Building for target x86_64 4557 | STBIDEF int stbi_zlib_decode_buffer(cha... removed directory 'lib/third_party/capstone' 1576 | STBIDEF void   stbi_ldr_to_hdr_scale(fl... to the PKG_CONFIG_PATH environment variable Hunk #2 succeeded at 812 (offset 45 lines).\n"
     ]
    },
    {
     "name": "stderr",
     "output_type": "stream",
     "text": [
      "Your max_length is set to 1024, but your input_length is only 105. Since this is a summarization task, where outputs shorter than the input are typically wanted, you might consider decreasing max_length manually, e.g. summarizer('...', max_length=52)\n"
     ]
    },
    {
     "name": "stdout",
     "output_type": "stream",
     "text": [
      "СУММАРИЗАЦИЯ ТЕКСТА: checking for unistd.h... yes checking for library containing opendir... non... checking for widec.h... no Making all in neXtaw 724 |     unsigned long interval; <86>May 17 03:22:30 groupadd[95418]: group add... <86>May 17 05:02:38 groupadd[665616]: group ad... checking for gethostbyname... yes checking for connect... yes checking for shmat... yes\n"
     ]
    },
    {
     "name": "stderr",
     "output_type": "stream",
     "text": [
      "Your max_length is set to 1024, but your input_length is only 153. Since this is a summarization task, where outputs shorter than the input are typically wanted, you might consider decreasing max_length manually, e.g. summarizer('...', max_length=76)\n"
     ]
    },
    {
     "name": "stdout",
     "output_type": "stream",
     "text": [
      "СУММАРИЗАЦИЯ ТЕКСТА: 1087 |             for (int i = 0; i < line.si... CMake Error at CMakeLists.txt:1 (CMAKE_MINIMUM... error: Bad exit status from /usr/src/tmp/rpm-t... Building atari800... 545 |                 t = b & (d & c ^ e ^ g) ... checking for pid_t... yes checking for stdio.h... yes checking for mbtowc... yes checking for x86_64-alt-linux-gcc option to en... Making all in neXtaw\n"
     ]
    },
    {
     "name": "stderr",
     "output_type": "stream",
     "text": [
      "Your max_length is set to 1024, but your input_length is only 151. Since this is a summarization task, where outputs shorter than the input are typically wanted, you might consider decreasing max_length manually, e.g. summarizer('...', max_length=75)\n"
     ]
    },
    {
     "name": "stdout",
     "output_type": "stream",
     "text": [
      "СУММАРИЗАЦИЯ ТЕКСТА: hsh-install: Failed to generate package file l... /usr/src/in/srpm/java3d-1.5.2-alt6_15jpp8.src.... Command exited with non-zero status 1 Building for target x86_64 -- backtrace facility detected in default set ... error: No such file or directory: /usr/src/tmp... Command exited with non-zero status 1 <86>May 17 05:03:02 groupadd[725678]: group ad... 1080 |             XtCallCallbacks (w, XtNscro... Hunk #1 succeeded at 793 (offset 45 lines).\n"
     ]
    },
    {
     "name": "stderr",
     "output_type": "stream",
     "text": [
      "Your max_length is set to 1024, but your input_length is only 127. Since this is a summarization task, where outputs shorter than the input are typically wanted, you might consider decreasing max_length manually, e.g. summarizer('...', max_length=63)\n"
     ]
    },
    {
     "name": "stdout",
     "output_type": "stream",
     "text": [
      "СУММАРИЗАЦИЯ ТЕКСТА: error: Bad exit status from /usr/src/tmp/rpm-t... Building for target x86_64 Hunk #2 succeeded at 588 (offset 4 lines). hsh-rebuild: rebuild of `libneXtaw-0.15.1-alt8... Hunk #2 succeeded at 812 (offset 45 lines). Hunk #1 succeeded at 500 (offset 3 lines). Hunk #5 succeeded at 19537 (offset 52 lines). Command exited with non-zero status 1 -- Detecting CXX compiler ABI info - done Problem opening /proc/meminfo\n"
     ]
    },
    {
     "name": "stderr",
     "output_type": "stream",
     "text": [
      "Your max_length is set to 1024, but your input_length is only 141. Since this is a summarization task, where outputs shorter than the input are typically wanted, you might consider decreasing max_length manually, e.g. summarizer('...', max_length=70)\n"
     ]
    },
    {
     "name": "stdout",
     "output_type": "stream",
     "text": [
      "СУММАРИЗАЦИЯ ТЕКСТА: checking for x86_64-alt-linux-file... no checking for x86_64-alt-linux-dlltool... no checking for dlltool... no checking for x86_64-alt-linux-objdump... no Bad exit status from /usr/src/tmp/rpm-tmp.564 ... Command exited with non-zero status 1 1138 |             (void) tmpnam(src->multi_sr... make[1]: *** [Makefile:352: all-recursive] Err... -- Configuring incomplete, errors occurred! checking for C compiler default output file na...\n"
     ]
    },
    {
     "name": "stderr",
     "output_type": "stream",
     "text": [
      "Your max_length is set to 1024, but your input_length is only 131. Since this is a summarization task, where outputs shorter than the input are typically wanted, you might consider decreasing max_length manually, e.g. summarizer('...', max_length=65)\n"
     ]
    },
    {
     "name": "stdout",
     "output_type": "stream",
     "text": [
      "СУММАРИЗАЦИЯ ТЕКСТА: Compatibility with CMake < 3.5 has been remove... Command exited with non-zero status 1 + export lt_cv_deplibs_check_method=pass_all checking for x86_64-alt-linux-file... no checking for x86_64-alt-linux-ar... no checking for stdio.h... yes checking for library containing opendir... non... checking for mbtowc... yes Making all in neXtaw 1117 |             XtCallCallbacks (w, XtNscro...\n"
     ]
    },
    {
     "name": "stderr",
     "output_type": "stream",
     "text": [
      "Your max_length is set to 1024, but your input_length is only 91. Since this is a summarization task, where outputs shorter than the input are typically wanted, you might consider decreasing max_length manually, e.g. summarizer('...', max_length=45)\n"
     ]
    },
    {
     "name": "stdout",
     "output_type": "stream",
     "text": [
      "СУММАРИЗАЦИЯ ТЕКСТА: checking for dlltool... no checking for x86_64-alt-linux-ranlib... no checking for x86_64-alt-linux-mt... no checking for stdlib.h... yes checking for main in -lXmu... yes Building for target x86_64 Building for target x86_64 82 | static int round(); Command exited with non-zero status 1 Building for target x86_64\n"
     ]
    },
    {
     "name": "stderr",
     "output_type": "stream",
     "text": [
      "Your max_length is set to 1024, but your input_length is only 147. Since this is a summarization task, where outputs shorter than the input are typically wanted, you might consider decreasing max_length manually, e.g. summarizer('...', max_length=73)\n"
     ]
    },
    {
     "name": "stdout",
     "output_type": "stream",
     "text": [
      "СУММАРИЗАЦИЯ ТЕКСТА: checking for working alloca.h... yes Hunk #1 succeeded at 679 (offset -23 lines). Hunk #2 succeeded at 1661 (offset -96 lines). Hunk #4 succeeded at 1768 (offset -96 lines). Hunk #4 succeeded at 2012 (offset -96 lines). Hunk #1 succeeded at 1229 (offset 34 lines). + export ac_cv_path_emacs=no autoreconf-default: configure.in: not using Li... 585 |                 t = h & (b & a ^ c ^ e) ... + configure_runstatedir_flags=\n"
     ]
    },
    {
     "name": "stderr",
     "output_type": "stream",
     "text": [
      "Your max_length is set to 1024, but your input_length is only 130. Since this is a summarization task, where outputs shorter than the input are typically wanted, you might consider decreasing max_length manually, e.g. summarizer('...', max_length=65)\n"
     ]
    },
    {
     "name": "stdout",
     "output_type": "stream",
     "text": [
      "СУММАРИЗАЦИЯ ТЕКСТА: -- Looking for stdint.h <86>May 17 02:39:12 groupadd[203230]: group ad... -- Looking for stddef.h - found Package 'libidn2', required by 'libcurl', not ... Package 'bzip2', required by 'freetype2', not ... <86>May 17 05:02:38 groupadd[665616]: group ad... -- Looking for backtrace Problem opening /proc/meminfo Package libidn2 was not found in the pkg-confi... to the PKG_CONFIG_PATH environment variable\n"
     ]
    },
    {
     "name": "stderr",
     "output_type": "stream",
     "text": [
      "Your max_length is set to 1024, but your input_length is only 118. Since this is a summarization task, where outputs shorter than the input are typically wanted, you might consider decreasing max_length manually, e.g. summarizer('...', max_length=59)\n"
     ]
    },
    {
     "name": "stdout",
     "output_type": "stream",
     "text": [
      "СУММАРИЗАЦИЯ ТЕКСТА: checking for x86_64-alt-linux-ranlib... no Hunk #1 succeeded at 1229 (offset 34 lines). checking for unistd.h... yes checking for x86_64-alt-linux-gcc option to en... checking for minix/config.h... no checking for suffix of object files... o checking for stdio.h... yes checking for stdlib.h... yes checking for C compiler default output file na... + export lt_cv_deplibs_check_method=pass_all\n"
     ]
    },
    {
     "name": "stderr",
     "output_type": "stream",
     "text": [
      "Your max_length is set to 1024, but your input_length is only 156. Since this is a summarization task, where outputs shorter than the input are typically wanted, you might consider decreasing max_length manually, e.g. summarizer('...', max_length=78)\n"
     ]
    },
    {
     "name": "stdout",
     "output_type": "stream",
     "text": [
      "СУММАРИЗАЦИЯ ТЕКСТА: error: Bad exit status from /usr/src/tmp/rpm-t... 46 |         bool m_localOnly = true; -- Looking for stddef.h - found 319 |         Int32 _hash_size; make[4]: *** [Makefile:558: spf_utils.lo] Error 1 make[3]: *** [Makefile:573: all-recursive] Err... In file included from /usr/src/RPM/BUILD/imhex... checking for stdlib.h... yes Compatibility with CMake < 3.5 has been remove... Package 'libidn2', required by 'libcurl', not ...\n"
     ]
    },
    {
     "name": "stderr",
     "output_type": "stream",
     "text": [
      "Your max_length is set to 1024, but your input_length is only 238. Since this is a summarization task, where outputs shorter than the input are typically wanted, you might consider decreasing max_length manually, e.g. summarizer('...', max_length=119)\n"
     ]
    },
    {
     "name": "stdout",
     "output_type": "stream",
     "text": [
      "СУММАРИЗАЦИЯ ТЕКСТА: checking for sys/mkdev.h... no [  2%] Built target microtar 1524 |                 t = b & (g & a ^ h ^ c)... + configure_runstatedir_flags= 1048 |         fread(s, 1, len, h->stdio); 15 |         OPN_CHMASK              = 0x80000... |                                             ... Package 'libidn2', required by 'libcurl', not ... 131 |                 return _pos == _data.siz... /usr/src/RPM/BUILD/apache-maven-3.8.8/maven-re...\n"
     ]
    },
    {
     "name": "stderr",
     "output_type": "stream",
     "text": [
      "Your max_length is set to 1024, but your input_length is only 267. Since this is a summarization task, where outputs shorter than the input are typically wanted, you might consider decreasing max_length manually, e.g. summarizer('...', max_length=133)\n"
     ]
    },
    {
     "name": "stdout",
     "output_type": "stream",
     "text": [
      "СУММАРИЗАЦИЯ ТЕКСТА: 83 |                 UInt32 sum = 0, index = 0; 917 |                 t = b & (f & d ^ e ^ a) ... /usr/src/RPM/BUILD/apache-maven-3.8.8/maven-re... 15 |         OPN_CHMASK              = 0x80000... 937 |                 t = e & (a & g ^ h ^ d) ... 1536 |                 t = g & (d & f ^ e ^ h)... 916 |         virtual void TransformBytes(cons... make[1]: [Makefile:79: .depend] Error 1 (ignored) /usr/src/RPM/BUILD/apache-maven-3.8.8/maven-re... checking for pthread_create in -lpthread... yes\n"
     ]
    },
    {
     "name": "stderr",
     "output_type": "stream",
     "text": [
      "Your max_length is set to 1024, but your input_length is only 155. Since this is a summarization task, where outputs shorter than the input are typically wanted, you might consider decreasing max_length manually, e.g. summarizer('...', max_length=77)\n"
     ]
    },
    {
     "name": "stdout",
     "output_type": "stream",
     "text": [
      "СУММАРИЗАЦИЯ ТЕКСТА: checking for stdlib.h... yes checking for shmat... yes checking for mbtowc... yes checking for main in -lXmu... yes 1033 |             (void) tmpnam(src->ascii_sr... 1117 |             XtCallCallbacks (w, XtNscro... 159 |     if (extContext == (XContext)NULL) ex... make[2]: *** [Makefile:552: XawIm.lo] Error 1 Bad exit status from /usr/src/tmp/rpm-tmp.564 ... Building for target x86_64\n"
     ]
    },
    {
     "name": "stderr",
     "output_type": "stream",
     "text": [
      "Your max_length is set to 1024, but your input_length is only 147. Since this is a summarization task, where outputs shorter than the input are typically wanted, you might consider decreasing max_length manually, e.g. summarizer('...', max_length=73)\n"
     ]
    },
    {
     "name": "stdout",
     "output_type": "stream",
     "text": [
      "СУММАРИЗАЦИЯ ТЕКСТА: In file included from /usr/include/python3.12/... -- Configuring incomplete, errors occurred! Hunk #1 succeeded at 1372 (offset 17 lines). Hunk #3 succeeded at 3133 (offset 15 lines). 2697 |     unsigned long*      /* bytes_after_... 1378 |     if (extContext != (XContext)NULL && 1102 |                 _XtCopyFromArg(arg->value, Building for target x86_64 Building for target x86_64 Hunk #5 succeeded at 19537 (offset 52 lines).\n"
     ]
    },
    {
     "name": "stderr",
     "output_type": "stream",
     "text": [
      "Your max_length is set to 1024, but your input_length is only 131. Since this is a summarization task, where outputs shorter than the input are typically wanted, you might consider decreasing max_length manually, e.g. summarizer('...', max_length=65)\n"
     ]
    },
    {
     "name": "stdout",
     "output_type": "stream",
     "text": [
      "СУММАРИЗАЦИЯ ТЕКСТА: -- Performing Test COMPILER_HAS_DEPRECATED_ATTR Package 'bzip2', required by 'freetype2', not ... Package bzip2 was not found in the pkg-config ... Package bzip2 was not found in the pkg-config ... Problem opening /proc/meminfo Problem opening /proc/meminfo Problem opening /proc/meminfo to the PKG_CONFIG_PATH environment variable 1097 |             XtCallCallbacks (w, XtNscro... Making all in app-defaults\n"
     ]
    },
    {
     "name": "stderr",
     "output_type": "stream",
     "text": [
      "Your max_length is set to 1024, but your input_length is only 137. Since this is a summarization task, where outputs shorter than the input are typically wanted, you might consider decreasing max_length manually, e.g. summarizer('...', max_length=68)\n"
     ]
    },
    {
     "name": "stdout",
     "output_type": "stream",
     "text": [
      "СУММАРИЗАЦИЯ ТЕКСТА: checking for connect... yes checking for dlltool... no 159 |     if (extContext == (XContext)NULL) ex... checking for x86_64-alt-linux-mt... no checking for wslen... no 1068 |             XtCallCallbacks (w, XtNscro... -- Detecting C compiler ABI info - done make[2]: *** [Makefile:552: laylex.lo] Error 1 checking for main in -lXmu... yes Package 'libidn2', required by 'libcurl', not ...\n"
     ]
    },
    {
     "name": "stderr",
     "output_type": "stream",
     "text": [
      "Your max_length is set to 1024, but your input_length is only 146. Since this is a summarization task, where outputs shorter than the input are typically wanted, you might consider decreasing max_length manually, e.g. summarizer('...', max_length=73)\n"
     ]
    },
    {
     "name": "stdout",
     "output_type": "stream",
     "text": [
      "СУММАРИЗАЦИЯ ТЕКСТА: <86>May 17 05:03:02 groupadd[725610]: group ad... to the PKG_CONFIG_PATH environment variable -- Performing Test COMPILER_HAS_DEPRECATED_ATTR -- Check for working CXX compiler: /usr/bin/c+... checking for x86_64-alt-linux-gcc option to en... Problem opening /proc/meminfo Package libidn2 was not found in the pkg-confi... -- Could NOT find BZip2 (missing: BZIP2_LIBRAR... checking for x86_64-alt-linux-ar... no Problem opening /proc/meminfo\n"
     ]
    },
    {
     "name": "stderr",
     "output_type": "stream",
     "text": [
      "Your max_length is set to 1024, but your input_length is only 176. Since this is a summarization task, where outputs shorter than the input are typically wanted, you might consider decreasing max_length manually, e.g. summarizer('...', max_length=88)\n"
     ]
    },
    {
     "name": "stdout",
     "output_type": "stream",
     "text": [
      "СУММАРИЗАЦИЯ ТЕКСТА: [ 37%] Built target imgui_implot 131 |                 return _pos == _data.siz... [ 18%] Built target imgui_implot3d /usr/bin/ranlib libminiaudio.a /usr/src/RPM/BUILD/apache-maven-3.8.8/maven-re... 46 |         bool m_localOnly = true; 83 |                 UInt32 sum = 0, index = 0; /usr/bin/ranlib libromfs-builtin.a [ 31%] Built target miniaudio [ 34%] Built target libromfs-script_loader\n",
      "Обработка завершена. Результаты сохранены в cluster_names_v2.json\n"
     ]
    }
   ],
   "source": [
    "import pandas as pd\n",
    "import re\n",
    "import json\n",
    "import requests\n",
    "from transformers import pipeline\n",
    "from time import sleep\n",
    "\n",
    "import pandas as pd\n",
    "import re\n",
    "import json\n",
    "import requests\n",
    "import chardet\n",
    "from transformers import pipeline\n",
    "from unicodedata import category\n",
    "\n",
    "def detect_encoding(file_path):\n",
    "    with open(file_path, 'rb') as f:\n",
    "        rawdata = f.read(10000)\n",
    "    return chardet.detect(rawdata)['encoding']\n",
    "\n",
    "def remove_control_chars(text):\n",
    "    return ''.join(c for c in str(text) if category(c)[0] != 'C')\n",
    "\n",
    "# Загрузка данных с автоматическим определением кодировки\n",
    "file_path = '/home/jupyter/datasphere/project/ver4/cluster_centers/longformer_hdbscan_centers.csv'\n",
    "\n",
    "try:\n",
    "    # Определение кодировки\n",
    "    encoding = detect_encoding(file_path)\n",
    "    \n",
    "    # Чтение файла с обработкой ошибок\n",
    "    df = pd.read_csv(\n",
    "        file_path,\n",
    "        encoding=encoding,\n",
    "        on_bad_lines='warn',\n",
    "        engine='python',\n",
    "        dtype={'error_text': str}\n",
    "    )\n",
    "    \n",
    "    # Проверка обязательных колонок\n",
    "    required_columns = ['cluster', 'log_id', 'error_text']\n",
    "    if not all(col in df.columns for col in required_columns):\n",
    "        raise ValueError(f\"CSV file must contain columns: {required_columns}\")\n",
    "\n",
    "except UnicodeDecodeError:\n",
    "    print(\"Ошибка кодировки. Пробуем fallback кодировки...\")\n",
    "    try:\n",
    "        df = pd.read_csv(file_path, encoding='latin-1', dtype={'error_text': str})\n",
    "    except Exception as e:\n",
    "        print(f\"Не удалось прочитать файл: {str(e)}\")\n",
    "        exit()\n",
    "\n",
    "# Функция очистки текста\n",
    "def clean_text(text):\n",
    "    # Удаление управляющих символов\n",
    "    cleaned = remove_control_chars(text)\n",
    "    # Удаление начальных цифр\n",
    "    cleaned = re.sub(r'^\\d+', '', cleaned)\n",
    "    # Удаление фиксированного окончания\n",
    "    return cleaned.replace('Name: error_text, dtype: object', '').strip()\n",
    "\n",
    "# Применение очистки с фильтрацией битых строк\n",
    "df['cleaned_text'] = df['error_text'].apply(clean_text)\n",
    "df = df[df['cleaned_text'].str.len() > 5]\n",
    "\n",
    "grouped = df.groupby('cluster')['cleaned_text'].agg(' '.join).reset_index()\n",
    "\n",
    "# Инициализация модели для суммаризации\n",
    "summarizer = pipeline(\"summarization\", model=\"sshleifer/distilbart-cnn-12-6\")\n",
    "\n",
    "# Функция суммаризации с обработкой длинных текстов\n",
    "def summarize_text(text):\n",
    "    truncated = text[:1024]\n",
    "    print(f\"СУММАРИЗАЦИЯ ТЕКСТА: {text}\")\n",
    "    result = summarizer(truncated, max_length=1024, min_length=30, do_sample=False)\n",
    "    return result[0]['summary_text']\n",
    "\n",
    "# Применение суммаризации\n",
    "grouped['model_summary'] = grouped['cleaned_text'].apply(summarize_text)\n",
    "\n",
    "# Подготовка данных для DeepSeek\n",
    "cluster_summaries = [f\"{row['cluster']}: {row['model_summary']}\" for _, row in grouped.iterrows()]\n",
    "batch_prompt = \"\\n\".join(cluster_summaries)\n",
    "\n",
    "# Конфигурация DeepSeek API\n",
    "DEEPSEEK_API_KEY = \"sk-caf1d8be739f4e2ea2da177bd37e5c01\"\n",
    "API_URL = \"https://api.deepseek.com/v1/chat/completions\"\n",
    "headers = {\n",
    "    \"Authorization\": f\"Bearer {DEEPSEEK_API_KEY}\",\n",
    "    \"Content-Type\": \"application/json\"\n",
    "}\n",
    "\n",
    "# Формирование запроса\n",
    "payload = {\n",
    "    \"model\": \"deepseek-chat\",\n",
    "    \"messages\": [{\n",
    "        \"role\": \"user\",\n",
    "        \"content\": f\"\"\"Проанализируй краткие описания ошибок и создай для каждой уникальное название на английском языке.\n",
    "Требования:\n",
    "1. Только 1-3 технических слова через пробел\n",
    "2. Все названия должны быть уникальными\n",
    "3. Формат ответа ТОЛЬКО как в примере:\n",
    "\n",
    "0: ConnectionTimeout\n",
    "1: InvalidJSONFormat\n",
    "...\n",
    " \n",
    "Вот описания ошибок:\n",
    "{batch_prompt}\"\"\"\n",
    "    }],\n",
    "    \"temperature\": 0.3\n",
    "}\n",
    "\n",
    "# Отправка запроса и обработка ответа\n",
    "result_dict = {}\n",
    "try:\n",
    "    response = requests.post(API_URL, json=payload, headers=headers)\n",
    "    if response.status_code == 200:\n",
    "        raw_response = response.json()['choices'][0]['message']['content']\n",
    "        # Парсинг ответа\n",
    "        for line in raw_response.strip().split('\\n'):\n",
    "            if ':' in line:\n",
    "                cluster_id, error_name = line.split(':', 1)\n",
    "                result_dict[cluster_id.strip()] = error_name.strip()\n",
    "    else:\n",
    "        print(f\"API Error: {response.status_code} - {response.text}\")\n",
    "        exit()\n",
    "except Exception as e:\n",
    "    print(f\"Request failed: {str(e)}\")\n",
    "    exit()\n",
    "\n",
    "# Формирование финального результата\n",
    "final_output = {}\n",
    "for _, row in grouped.iterrows():\n",
    "    cluster = str(row['cluster'])\n",
    "    final_output[cluster] = {\n",
    "        \"model_summary\": row['model_summary'],\n",
    "        \"deepseek_name\": result_dict.get(cluster, \"UnknownError\")\n",
    "    }\n",
    "\n",
    "# Сохранение результатов\n",
    "with open('cluster_names_v2.json', 'w') as f:\n",
    "    json.dump(final_output, f, indent=2, ensure_ascii=False)\n",
    "\n",
    "print(\"Обработка завершена. Результаты сохранены в cluster_names_v2.json\")"
   ]
  },
  {
   "cell_type": "code",
   "execution_count": 1,
   "id": "ae4afd0d-419e-4eec-a946-758c29b27056",
   "metadata": {
    "execution": {
     "iopub.execute_input": "2025-05-18T00:46:58.114198Z",
     "iopub.status.busy": "2025-05-18T00:46:58.113396Z",
     "iopub.status.idle": "2025-05-18T00:56:30.961855Z",
     "shell.execute_reply": "2025-05-18T00:56:30.960488Z",
     "shell.execute_reply.started": "2025-05-18T00:46:58.114137Z"
    },
    "tags": []
   },
   "outputs": [
    {
     "name": "stderr",
     "output_type": "stream",
     "text": [
      "/home/jupyter/.local/lib/python3.10/site-packages/transformers/utils/hub.py:105: FutureWarning: Using `TRANSFORMERS_CACHE` is deprecated and will be removed in v5 of Transformers. Use `HF_HOME` instead.\n",
      "  warnings.warn(\n",
      "2025-05-18 00:47:34.344677: I tensorflow/core/platform/cpu_feature_guard.cc:182] This TensorFlow binary is optimized to use available CPU instructions in performance-critical operations.\n",
      "To enable the following instructions: AVX2 FMA, in other operations, rebuild TensorFlow with the appropriate compiler flags.\n",
      "2025-05-18 00:47:42.537118: W tensorflow/compiler/tf2tensorrt/utils/py_utils.cc:38] TF-TRT Warning: Could not find TensorRT\n",
      "Device set to use cuda:0\n",
      "Your max_length is set to 75, but your input_length is only 41. Since this is a summarization task, where outputs shorter than the input are typically wanted, you might consider decreasing max_length manually, e.g. summarizer('...', max_length=20)\n",
      "Your max_length is set to 75, but your input_length is only 27. Since this is a summarization task, where outputs shorter than the input are typically wanted, you might consider decreasing max_length manually, e.g. summarizer('...', max_length=13)\n",
      "Your max_length is set to 75, but your input_length is only 52. Since this is a summarization task, where outputs shorter than the input are typically wanted, you might consider decreasing max_length manually, e.g. summarizer('...', max_length=26)\n",
      "Your max_length is set to 75, but your input_length is only 42. Since this is a summarization task, where outputs shorter than the input are typically wanted, you might consider decreasing max_length manually, e.g. summarizer('...', max_length=21)\n",
      "Your max_length is set to 75, but your input_length is only 52. Since this is a summarization task, where outputs shorter than the input are typically wanted, you might consider decreasing max_length manually, e.g. summarizer('...', max_length=26)\n",
      "Your max_length is set to 75, but your input_length is only 59. Since this is a summarization task, where outputs shorter than the input are typically wanted, you might consider decreasing max_length manually, e.g. summarizer('...', max_length=29)\n",
      "Your max_length is set to 75, but your input_length is only 71. Since this is a summarization task, where outputs shorter than the input are typically wanted, you might consider decreasing max_length manually, e.g. summarizer('...', max_length=35)\n",
      "Your max_length is set to 75, but your input_length is only 69. Since this is a summarization task, where outputs shorter than the input are typically wanted, you might consider decreasing max_length manually, e.g. summarizer('...', max_length=34)\n",
      "Your max_length is set to 75, but your input_length is only 47. Since this is a summarization task, where outputs shorter than the input are typically wanted, you might consider decreasing max_length manually, e.g. summarizer('...', max_length=23)\n",
      "You seem to be using the pipelines sequentially on GPU. In order to maximize efficiency please use a dataset\n",
      "Your max_length is set to 75, but your input_length is only 47. Since this is a summarization task, where outputs shorter than the input are typically wanted, you might consider decreasing max_length manually, e.g. summarizer('...', max_length=23)\n",
      "Your max_length is set to 75, but your input_length is only 35. Since this is a summarization task, where outputs shorter than the input are typically wanted, you might consider decreasing max_length manually, e.g. summarizer('...', max_length=17)\n",
      "Your max_length is set to 75, but your input_length is only 56. Since this is a summarization task, where outputs shorter than the input are typically wanted, you might consider decreasing max_length manually, e.g. summarizer('...', max_length=28)\n",
      "Your max_length is set to 75, but your input_length is only 60. Since this is a summarization task, where outputs shorter than the input are typically wanted, you might consider decreasing max_length manually, e.g. summarizer('...', max_length=30)\n",
      "Your max_length is set to 75, but your input_length is only 62. Since this is a summarization task, where outputs shorter than the input are typically wanted, you might consider decreasing max_length manually, e.g. summarizer('...', max_length=31)\n",
      "Your max_length is set to 75, but your input_length is only 41. Since this is a summarization task, where outputs shorter than the input are typically wanted, you might consider decreasing max_length manually, e.g. summarizer('...', max_length=20)\n",
      "Your max_length is set to 75, but your input_length is only 35. Since this is a summarization task, where outputs shorter than the input are typically wanted, you might consider decreasing max_length manually, e.g. summarizer('...', max_length=17)\n",
      "Your max_length is set to 75, but your input_length is only 49. Since this is a summarization task, where outputs shorter than the input are typically wanted, you might consider decreasing max_length manually, e.g. summarizer('...', max_length=24)\n",
      "Your max_length is set to 75, but your input_length is only 44. Since this is a summarization task, where outputs shorter than the input are typically wanted, you might consider decreasing max_length manually, e.g. summarizer('...', max_length=22)\n",
      "Your max_length is set to 75, but your input_length is only 38. Since this is a summarization task, where outputs shorter than the input are typically wanted, you might consider decreasing max_length manually, e.g. summarizer('...', max_length=19)\n",
      "Your max_length is set to 75, but your input_length is only 40. Since this is a summarization task, where outputs shorter than the input are typically wanted, you might consider decreasing max_length manually, e.g. summarizer('...', max_length=20)\n",
      "Your max_length is set to 75, but your input_length is only 36. Since this is a summarization task, where outputs shorter than the input are typically wanted, you might consider decreasing max_length manually, e.g. summarizer('...', max_length=18)\n",
      "Your max_length is set to 75, but your input_length is only 43. Since this is a summarization task, where outputs shorter than the input are typically wanted, you might consider decreasing max_length manually, e.g. summarizer('...', max_length=21)\n",
      "Your max_length is set to 75, but your input_length is only 53. Since this is a summarization task, where outputs shorter than the input are typically wanted, you might consider decreasing max_length manually, e.g. summarizer('...', max_length=26)\n",
      "Your max_length is set to 75, but your input_length is only 26. Since this is a summarization task, where outputs shorter than the input are typically wanted, you might consider decreasing max_length manually, e.g. summarizer('...', max_length=13)\n",
      "Your max_length is set to 75, but your input_length is only 40. Since this is a summarization task, where outputs shorter than the input are typically wanted, you might consider decreasing max_length manually, e.g. summarizer('...', max_length=20)\n",
      "Your max_length is set to 75, but your input_length is only 66. Since this is a summarization task, where outputs shorter than the input are typically wanted, you might consider decreasing max_length manually, e.g. summarizer('...', max_length=33)\n",
      "Your max_length is set to 75, but your input_length is only 66. Since this is a summarization task, where outputs shorter than the input are typically wanted, you might consider decreasing max_length manually, e.g. summarizer('...', max_length=33)\n",
      "Your max_length is set to 75, but your input_length is only 38. Since this is a summarization task, where outputs shorter than the input are typically wanted, you might consider decreasing max_length manually, e.g. summarizer('...', max_length=19)\n",
      "Your max_length is set to 75, but your input_length is only 36. Since this is a summarization task, where outputs shorter than the input are typically wanted, you might consider decreasing max_length manually, e.g. summarizer('...', max_length=18)\n",
      "Your max_length is set to 75, but your input_length is only 53. Since this is a summarization task, where outputs shorter than the input are typically wanted, you might consider decreasing max_length manually, e.g. summarizer('...', max_length=26)\n",
      "Your max_length is set to 75, but your input_length is only 50. Since this is a summarization task, where outputs shorter than the input are typically wanted, you might consider decreasing max_length manually, e.g. summarizer('...', max_length=25)\n",
      "Your max_length is set to 75, but your input_length is only 66. Since this is a summarization task, where outputs shorter than the input are typically wanted, you might consider decreasing max_length manually, e.g. summarizer('...', max_length=33)\n",
      "Your max_length is set to 75, but your input_length is only 51. Since this is a summarization task, where outputs shorter than the input are typically wanted, you might consider decreasing max_length manually, e.g. summarizer('...', max_length=25)\n",
      "Your max_length is set to 75, but your input_length is only 44. Since this is a summarization task, where outputs shorter than the input are typically wanted, you might consider decreasing max_length manually, e.g. summarizer('...', max_length=22)\n",
      "Your max_length is set to 75, but your input_length is only 38. Since this is a summarization task, where outputs shorter than the input are typically wanted, you might consider decreasing max_length manually, e.g. summarizer('...', max_length=19)\n",
      "Your max_length is set to 75, but your input_length is only 35. Since this is a summarization task, where outputs shorter than the input are typically wanted, you might consider decreasing max_length manually, e.g. summarizer('...', max_length=17)\n",
      "Your max_length is set to 75, but your input_length is only 49. Since this is a summarization task, where outputs shorter than the input are typically wanted, you might consider decreasing max_length manually, e.g. summarizer('...', max_length=24)\n",
      "Your max_length is set to 75, but your input_length is only 36. Since this is a summarization task, where outputs shorter than the input are typically wanted, you might consider decreasing max_length manually, e.g. summarizer('...', max_length=18)\n",
      "Your max_length is set to 75, but your input_length is only 30. Since this is a summarization task, where outputs shorter than the input are typically wanted, you might consider decreasing max_length manually, e.g. summarizer('...', max_length=15)\n",
      "Your max_length is set to 75, but your input_length is only 30. Since this is a summarization task, where outputs shorter than the input are typically wanted, you might consider decreasing max_length manually, e.g. summarizer('...', max_length=15)\n",
      "Your max_length is set to 75, but your input_length is only 40. Since this is a summarization task, where outputs shorter than the input are typically wanted, you might consider decreasing max_length manually, e.g. summarizer('...', max_length=20)\n",
      "Your max_length is set to 75, but your input_length is only 56. Since this is a summarization task, where outputs shorter than the input are typically wanted, you might consider decreasing max_length manually, e.g. summarizer('...', max_length=28)\n",
      "Your max_length is set to 75, but your input_length is only 29. Since this is a summarization task, where outputs shorter than the input are typically wanted, you might consider decreasing max_length manually, e.g. summarizer('...', max_length=14)\n",
      "Your max_length is set to 75, but your input_length is only 68. Since this is a summarization task, where outputs shorter than the input are typically wanted, you might consider decreasing max_length manually, e.g. summarizer('...', max_length=34)\n",
      "Your max_length is set to 75, but your input_length is only 52. Since this is a summarization task, where outputs shorter than the input are typically wanted, you might consider decreasing max_length manually, e.g. summarizer('...', max_length=26)\n",
      "Your max_length is set to 75, but your input_length is only 39. Since this is a summarization task, where outputs shorter than the input are typically wanted, you might consider decreasing max_length manually, e.g. summarizer('...', max_length=19)\n",
      "Your max_length is set to 75, but your input_length is only 38. Since this is a summarization task, where outputs shorter than the input are typically wanted, you might consider decreasing max_length manually, e.g. summarizer('...', max_length=19)\n",
      "Your max_length is set to 75, but your input_length is only 41. Since this is a summarization task, where outputs shorter than the input are typically wanted, you might consider decreasing max_length manually, e.g. summarizer('...', max_length=20)\n",
      "Your max_length is set to 75, but your input_length is only 38. Since this is a summarization task, where outputs shorter than the input are typically wanted, you might consider decreasing max_length manually, e.g. summarizer('...', max_length=19)\n",
      "Your max_length is set to 75, but your input_length is only 39. Since this is a summarization task, where outputs shorter than the input are typically wanted, you might consider decreasing max_length manually, e.g. summarizer('...', max_length=19)\n",
      "Your max_length is set to 75, but your input_length is only 39. Since this is a summarization task, where outputs shorter than the input are typically wanted, you might consider decreasing max_length manually, e.g. summarizer('...', max_length=19)\n",
      "Your max_length is set to 75, but your input_length is only 39. Since this is a summarization task, where outputs shorter than the input are typically wanted, you might consider decreasing max_length manually, e.g. summarizer('...', max_length=19)\n",
      "Your max_length is set to 75, but your input_length is only 47. Since this is a summarization task, where outputs shorter than the input are typically wanted, you might consider decreasing max_length manually, e.g. summarizer('...', max_length=23)\n",
      "Your max_length is set to 75, but your input_length is only 52. Since this is a summarization task, where outputs shorter than the input are typically wanted, you might consider decreasing max_length manually, e.g. summarizer('...', max_length=26)\n",
      "Your max_length is set to 75, but your input_length is only 24. Since this is a summarization task, where outputs shorter than the input are typically wanted, you might consider decreasing max_length manually, e.g. summarizer('...', max_length=12)\n",
      "Your max_length is set to 75, but your input_length is only 38. Since this is a summarization task, where outputs shorter than the input are typically wanted, you might consider decreasing max_length manually, e.g. summarizer('...', max_length=19)\n",
      "Your max_length is set to 75, but your input_length is only 49. Since this is a summarization task, where outputs shorter than the input are typically wanted, you might consider decreasing max_length manually, e.g. summarizer('...', max_length=24)\n",
      "Your max_length is set to 75, but your input_length is only 33. Since this is a summarization task, where outputs shorter than the input are typically wanted, you might consider decreasing max_length manually, e.g. summarizer('...', max_length=16)\n",
      "Your max_length is set to 75, but your input_length is only 50. Since this is a summarization task, where outputs shorter than the input are typically wanted, you might consider decreasing max_length manually, e.g. summarizer('...', max_length=25)\n",
      "Your max_length is set to 75, but your input_length is only 52. Since this is a summarization task, where outputs shorter than the input are typically wanted, you might consider decreasing max_length manually, e.g. summarizer('...', max_length=26)\n"
     ]
    },
    {
     "name": "stdout",
     "output_type": "stream",
     "text": [
      "Обработка завершена. Результаты сохранены в cluster_names.json\n"
     ]
    }
   ],
   "source": [
    "import pandas as pd\n",
    "import re\n",
    "import json\n",
    "import requests\n",
    "from transformers import pipeline\n",
    "\n",
    "df = pd.read_csv('/home/jupyter/datasphere/project/ver4/cluster_centers/longformer_hdbscan_centers.csv')\n",
    "\n",
    "def clean_text(text):\n",
    "    text = re.sub(r'^\\d+', '', text)\n",
    "    text = text.replace('Name: error_text, dtype: object', '').strip()\n",
    "    return text\n",
    "\n",
    "df['cleaned_text'] = df['error_text'].apply(clean_text)\n",
    "\n",
    "grouped = df.groupby('cluster')['cleaned_text'].agg(' '.join).reset_index()\n",
    "\n",
    "summarizer = pipeline(\"summarization\", model=\"sshleifer/distilbart-cnn-12-6\")\n",
    "\n",
    "def summarize_text(text):\n",
    "    inputs = text[:1024]\n",
    "    result = summarizer(inputs, max_length=75, min_length=30, do_sample=False)\n",
    "    return result[0]['summary_text']\n",
    "\n",
    "grouped['summary'] = grouped['cleaned_text'].apply(summarize_text)\n",
    "\n",
    "DEEPSEEK_API_KEY = \"sk-caf1d8be739f4e2ea2da177bd37e5c01\"\n",
    "API_URL = \"https://api.deepseek.com/v1/chat/completions\"\n",
    "headers = {\n",
    "    \"Authorization\": f\"Bearer {DEEPSEEK_API_KEY}\",\n",
    "    \"Content-Type\": \"application/json\"\n",
    "}\n",
    "\n",
    "def get_error_name(summary):\n",
    "    payload = {\n",
    "        \"model\": \"deepseek-chat\",\n",
    "        \"messages\": [\n",
    "            {\n",
    "                \"role\": \"user\",\n",
    "                \"content\": f\"Сгенерируй краткое техническое название этой ошибки на английском языке без лишних слов, только суть: {summary}\"\n",
    "            }\n",
    "        ]\n",
    "    }\n",
    "    \n",
    "    response = requests.post(API_URL, json=payload, headers=headers)\n",
    "    if response.status_code == 200:\n",
    "        return response.json()['choices'][0]['message']['content'].strip()\n",
    "    return \"Unknown Error\"\n",
    "\n",
    "result = {}\n",
    "for _, row in grouped.iterrows():\n",
    "    error_name = get_error_name(row['summary'])\n",
    "    result[row['cluster']] = error_name\n",
    "\n",
    "with open('cluster_names.json', 'w') as f:\n",
    "    json.dump(result, f, indent=2)\n",
    "\n",
    "print(\"Обработка завершена. Результаты сохранены в cluster_names.json\")"
   ]
  }
 ],
 "metadata": {
  "kernelspec": {
   "display_name": "DataSphere Kernel",
   "language": "python",
   "name": "python3"
  },
  "language_info": {
   "codemirror_mode": {
    "name": "ipython",
    "version": 3
   },
   "file_extension": ".py",
   "mimetype": "text/x-python",
   "name": "python",
   "nbconvert_exporter": "python",
   "pygments_lexer": "ipython3",
   "version": "3.10.12"
  }
 },
 "nbformat": 4,
 "nbformat_minor": 5
}
