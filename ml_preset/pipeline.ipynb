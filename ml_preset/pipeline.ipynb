{
 "cells": [
  {
   "cell_type": "code",
   "execution_count": 3,
   "id": "f6cc5ef4",
   "metadata": {},
   "outputs": [
    {
     "name": "stdout",
     "output_type": "stream",
     "text": [
      "Готово! Файл сохранён\n"
     ]
    }
   ],
   "source": [
    "import pandas as pd\n",
    "\n",
    "CLUSTER1_LABELS = {\n",
    "    0: \"Ошибка компиляции\",\n",
    "    1: \"Ошибка сборки\",\n",
    "    2: \"Ошибка загрузки дополнительного пакета\",\n",
    "}\n",
    "\n",
    "CLUSTER2_LABELS = {\n",
    "    0: \"Падение теста на питоне\",\n",
    "    1: \"Ошибка загрузки дополнительных пакетов\",\n",
    "    2: \"Ошибка генерации скриптов конфигурации\",\n",
    "    3: \"Ошибка в модуле Python\",\n",
    "    4: \"Ошибка CMAKE\",\n",
    "}\n",
    "\n",
    "CLUSTER3_LABELS = {\n",
    "    0: \"Ошибка сборки с Perl\",\n",
    "    1: \"Несовместимость версий CMake\",\n",
    "}\n",
    "\n",
    "df_logs = pd.read_csv(\"logs_with_labels_with_id.csv\")               \n",
    "c1 = pd.read_csv(\"all-MiniLM-L6-v2_hdbscan_min_cluster_size=5_metric=manhattan_labels.csv\")                      \n",
    "c2 = pd.read_csv(\"roberta-large_kmeans_n_clusters=5_n_init=10_labels.csv\")\n",
    "c3 = pd.read_csv(\"distil-log_kmeans_n_clusters=5_n_init=10_labels.csv\")\n",
    "\n",
    "c1[\"cluster_0\"] = c1[\"cluster\"].map(CLUSTER1_LABELS)\n",
    "c2[\"cluster_1\"] = c2[\"cluster\"].map(CLUSTER2_LABELS)\n",
    "c3[\"cluster_2\"] = c3[\"cluster\"].map(CLUSTER3_LABELS)\n",
    "\n",
    "c1 = c1[[\"id\", \"cluster_0\"]]\n",
    "c2 = c2[[\"id\", \"cluster_1\"]]\n",
    "c3 = c3[[\"id\", \"cluster_2\"]]\n",
    "\n",
    "df = (\n",
    "    df_logs.merge(c1, on=\"id\", how=\"left\")\n",
    "           .merge(c2, on=\"id\", how=\"left\")\n",
    "           .merge(c3, on=\"id\", how=\"left\")\n",
    ")\n",
    "\n",
    "\n",
    "df.to_csv(\"classified_table.csv\", index=False)\n",
    "print(f\"Готово! Файл сохранён\")\n"
   ]
  }
 ],
 "metadata": {
  "kernelspec": {
   "display_name": ".error-hack-env",
   "language": "python",
   "name": "python3"
  },
  "language_info": {
   "codemirror_mode": {
    "name": "ipython",
    "version": 3
   },
   "file_extension": ".py",
   "mimetype": "text/x-python",
   "name": "python",
   "nbconvert_exporter": "python",
   "pygments_lexer": "ipython3",
   "version": "3.12.1"
  }
 },
 "nbformat": 4,
 "nbformat_minor": 5
}
