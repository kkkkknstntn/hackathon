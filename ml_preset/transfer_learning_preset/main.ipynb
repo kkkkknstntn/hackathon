{
 "cells": [
  {
   "cell_type": "markdown",
   "id": "15a6c0ea",
   "metadata": {},
   "source": [
    "## Пресет дообучения LLM на задачу классификации"
   ]
  },
  {
   "cell_type": "code",
   "execution_count": 2,
   "id": "8ecfaa23",
   "metadata": {},
   "outputs": [],
   "source": [
    "import torch\n",
    "from torch.utils.data import Dataset, DataLoader\n",
    "from transformers import AutoTokenizer, AutoModelForSequenceClassification, get_scheduler\n",
    "from torch.optim import AdamW\n",
    "from sklearn.model_selection import train_test_split\n",
    "from tqdm import tqdm"
   ]
  },
  {
   "cell_type": "code",
   "execution_count": 3,
   "id": "a5f867ca",
   "metadata": {},
   "outputs": [],
   "source": [
    "class CustomDataset(Dataset):\n",
    "    def __init__(self, texts, labels, tokenizer, max_length=128):\n",
    "        self.texts = texts\n",
    "        self.labels = labels\n",
    "        self.tokenizer = tokenizer\n",
    "        self.max_length = max_length\n",
    "        \n",
    "    def __len__(self):\n",
    "        return len(self.texts)\n",
    "    \n",
    "    def __getitem__(self, idx):\n",
    "        text = self.texts[idx]\n",
    "        label = self.labels[idx]\n",
    "        \n",
    "        encoding = self.tokenizer(\n",
    "            text,\n",
    "            max_length=self.max_length,\n",
    "            padding='max_length',\n",
    "            truncation=True,\n",
    "            return_tensors='pt'\n",
    "        )\n",
    "        \n",
    "        item = {key: val.squeeze(0) for key, val in encoding.items()}\n",
    "        item['labels'] = torch.tensor(label, dtype=torch.long)\n",
    "        \n",
    "        return item"
   ]
  },
  {
   "cell_type": "code",
   "execution_count": 4,
   "id": "2844825a",
   "metadata": {},
   "outputs": [],
   "source": [
    "class Trainer:\n",
    "    def __init__(self, model_name, train_dataset=None, val_dataset=None, \n",
    "                 epochs=3, batch_size=16, lr=5e-5, device=None):\n",
    "        \n",
    "        self.device = device if device else ('cuda' if torch.cuda.is_available() else 'cpu')\n",
    "        self.tokenizer = AutoTokenizer.from_pretrained(model_name)\n",
    "        self.model = AutoModelForSequenceClassification.from_pretrained(model_name)\n",
    "        self.model.to(self.device)\n",
    "        \n",
    "        if train_dataset:\n",
    "            self.train_loader = DataLoader(train_dataset, batch_size=batch_size, shuffle=True)\n",
    "        else:\n",
    "            self.train_loader = None\n",
    "        \n",
    "        if val_dataset:\n",
    "            self.val_loader = DataLoader(val_dataset, batch_size=batch_size)\n",
    "        else:\n",
    "            self.val_loader = None\n",
    "        \n",
    "        self.optimizer = AdamW(self.model.parameters(), lr=lr)\n",
    "        self.epochs = epochs\n",
    "        \n",
    "        if self.train_loader:\n",
    "            num_training_steps = epochs * len(self.train_loader)\n",
    "            self.lr_scheduler = get_scheduler(\n",
    "                \"linear\",\n",
    "                optimizer=self.optimizer,\n",
    "                num_warmup_steps=0,\n",
    "                num_training_steps=num_training_steps\n",
    "            )\n",
    "        else:\n",
    "            self.lr_scheduler = None\n",
    "    \n",
    "    def train_epoch(self):\n",
    "        self.model.train()\n",
    "        losses = []\n",
    "        for batch in tqdm(self.train_loader):\n",
    "            batch = {k: v.to(self.device) for k, v in batch.items()}\n",
    "            outputs = self.model(**batch)\n",
    "            loss = outputs.loss\n",
    "            \n",
    "            loss.backward()\n",
    "            self.optimizer.step()\n",
    "            self.lr_scheduler.step()\n",
    "            self.optimizer.zero_grad()\n",
    "            \n",
    "            losses.append(loss.item())\n",
    "        return sum(losses) / len(losses)\n",
    "    \n",
    "    def evaluate(self):\n",
    "        if not self.val_loader:\n",
    "            return None\n",
    "        self.model.eval()\n",
    "        total, correct = 0, 0\n",
    "        with torch.no_grad():\n",
    "            for batch in self.val_loader:\n",
    "                batch = {k: v.to(self.device) for k, v in batch.items()}\n",
    "                outputs = self.model(**batch)\n",
    "                logits = outputs.logits\n",
    "                preds = torch.argmax(logits, dim=-1)\n",
    "                total += batch['labels'].size(0)\n",
    "                correct += (preds == batch['labels']).sum().item()\n",
    "        return correct / total\n",
    "    \n",
    "    def train(self):\n",
    "        if not self.train_loader:\n",
    "            print(\"No training data provided!\")\n",
    "            return\n",
    "        \n",
    "        for epoch in range(1, self.epochs + 1):\n",
    "            train_loss = self.train_epoch()\n",
    "            val_acc = self.evaluate()\n",
    "            print(f\"Epoch {epoch} | Train loss: {train_loss:.4f} | Val Acc: {val_acc if val_acc is not None else 'N/A'}\")\n",
    "    \n",
    "    def save_model(self, path):\n",
    "        self.model.save_pretrained(path)\n",
    "        self.tokenizer.save_pretrained(path)\n",
    "        print(f\"Model and tokenizer saved to {path}\")\n",
    "    \n",
    "    @staticmethod\n",
    "    def load_model(path, device=None):\n",
    "        device = device if device else ('cuda' if torch.cuda.is_available() else 'cpu')\n",
    "        tokenizer = AutoTokenizer.from_pretrained(path)\n",
    "        model = AutoModelForSequenceClassification.from_pretrained(path).to(device)\n",
    "        \n",
    "        trainer = Trainer.__new__(Trainer)\n",
    "        trainer.device = device\n",
    "        trainer.tokenizer = tokenizer\n",
    "        trainer.model = model\n",
    "        trainer.train_loader = None\n",
    "        trainer.val_loader = None\n",
    "        trainer.optimizer = None\n",
    "        trainer.epochs = 0\n",
    "        trainer.lr_scheduler = None\n",
    "        return trainer\n",
    "    \n",
    "    def predict(self, texts, max_length=128):\n",
    "        self.model.eval()\n",
    "        encoded_input = self.tokenizer(texts, padding=True, truncation=True, max_length=max_length, return_tensors='pt')\n",
    "        encoded_input = {k: v.to(self.device) for k, v in encoded_input.items()}\n",
    "        \n",
    "        with torch.no_grad():\n",
    "            outputs = self.model(**encoded_input)\n",
    "            logits = outputs.logits\n",
    "            preds = torch.argmax(logits, dim=-1)\n",
    "        \n",
    "        return preds.cpu().tolist()\n"
   ]
  },
  {
   "cell_type": "code",
   "execution_count": 5,
   "id": "28c84578",
   "metadata": {},
   "outputs": [],
   "source": [
    "texts = [\"I love programming.\", \"I hate bugs.\", \"Transformers are great!\"]"
   ]
  },
  {
   "cell_type": "code",
   "execution_count": 6,
   "id": "ad750ed6",
   "metadata": {},
   "outputs": [],
   "source": [
    "labels = [1, 0, 1]"
   ]
  },
  {
   "cell_type": "code",
   "execution_count": 7,
   "id": "4b29f1b5",
   "metadata": {},
   "outputs": [],
   "source": [
    "train_texts, val_texts, train_labels, val_labels = train_test_split(texts, labels, test_size=0.33, random_state=42)"
   ]
  },
  {
   "cell_type": "code",
   "execution_count": 8,
   "id": "125063c4",
   "metadata": {},
   "outputs": [],
   "source": [
    "model_name = \"bert-base-uncased\"\n",
    "tokenizer = AutoTokenizer.from_pretrained(model_name)"
   ]
  },
  {
   "cell_type": "code",
   "execution_count": 9,
   "id": "4cdb738e",
   "metadata": {},
   "outputs": [],
   "source": [
    "train_dataset = CustomDataset(train_texts, train_labels, tokenizer)\n",
    "val_dataset = CustomDataset(val_texts, val_labels, tokenizer)"
   ]
  },
  {
   "cell_type": "code",
   "execution_count": 10,
   "id": "befcf1ec",
   "metadata": {},
   "outputs": [
    {
     "name": "stderr",
     "output_type": "stream",
     "text": [
      "Some weights of BertForSequenceClassification were not initialized from the model checkpoint at bert-base-uncased and are newly initialized: ['classifier.bias', 'classifier.weight']\n",
      "You should probably TRAIN this model on a down-stream task to be able to use it for predictions and inference.\n"
     ]
    }
   ],
   "source": [
    "trainer = Trainer(model_name, train_dataset, val_dataset, epochs=3,batch_size=2)"
   ]
  },
  {
   "cell_type": "code",
   "execution_count": 11,
   "id": "960fb792",
   "metadata": {},
   "outputs": [
    {
     "name": "stderr",
     "output_type": "stream",
     "text": [
      "100%|██████████| 1/1 [00:00<00:00,  1.85it/s]\n"
     ]
    },
    {
     "name": "stdout",
     "output_type": "stream",
     "text": [
      "Epoch 1 | Train loss: 0.6995 | Val Acc: 1.0\n"
     ]
    },
    {
     "name": "stderr",
     "output_type": "stream",
     "text": [
      "100%|██████████| 1/1 [00:00<00:00,  5.48it/s]\n"
     ]
    },
    {
     "name": "stdout",
     "output_type": "stream",
     "text": [
      "Epoch 2 | Train loss: 0.6342 | Val Acc: 0.0\n"
     ]
    },
    {
     "name": "stderr",
     "output_type": "stream",
     "text": [
      "100%|██████████| 1/1 [00:00<00:00,  5.62it/s]\n"
     ]
    },
    {
     "name": "stdout",
     "output_type": "stream",
     "text": [
      "Epoch 3 | Train loss: 0.5532 | Val Acc: 0.0\n"
     ]
    }
   ],
   "source": [
    "trainer.train()"
   ]
  },
  {
   "cell_type": "code",
   "execution_count": 12,
   "id": "1fa04f1b",
   "metadata": {},
   "outputs": [
    {
     "name": "stdout",
     "output_type": "stream",
     "text": [
      "Model and tokenizer saved to ./saved_bert_model\n"
     ]
    }
   ],
   "source": [
    "trainer.save_model(\"./saved_bert_model\")"
   ]
  },
  {
   "cell_type": "code",
   "execution_count": 13,
   "id": "59424d15",
   "metadata": {},
   "outputs": [],
   "source": [
    "loaded_trainer = Trainer.load_model(\"./saved_bert_model\")"
   ]
  },
  {
   "cell_type": "code",
   "execution_count": 14,
   "id": "c6d29cad",
   "metadata": {},
   "outputs": [
    {
     "name": "stdout",
     "output_type": "stream",
     "text": [
      "[1, 0]\n"
     ]
    }
   ],
   "source": [
    "texts = [\"This is great!\", \"I hate this product.\"]\n",
    "predictions = loaded_trainer.predict(texts)\n",
    "print(predictions)"
   ]
  }
 ],
 "metadata": {
  "kernelspec": {
   "display_name": ".error-hack-env",
   "language": "python",
   "name": "python3"
  },
  "language_info": {
   "codemirror_mode": {
    "name": "ipython",
    "version": 3
   },
   "file_extension": ".py",
   "mimetype": "text/x-python",
   "name": "python",
   "nbconvert_exporter": "python",
   "pygments_lexer": "ipython3",
   "version": "3.12.1"
  }
 },
 "nbformat": 4,
 "nbformat_minor": 5
}
