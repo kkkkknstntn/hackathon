{
 "cells": [
  {
   "cell_type": "code",
   "execution_count": null,
   "id": "deb18a15",
   "metadata": {},
   "outputs": [],
   "source": [
    "import torch\n",
    "from transformers import BertTokenizer, BertForMaskedLM\n",
    "import numpy as np\n",
    "\n",
    "model_dir = \"./logbert_finetuned\"\n",
    "tokenizer = BertTokenizer.from_pretrained(model_dir)\n",
    "model = BertForMaskedLM.from_pretrained(model_dir)\n",
    "model.eval()\n",
    "\n",
    "def get_log_embeddings(logs):\n",
    "    inputs = tokenizer(logs, padding=True, truncation=True, return_tensors=\"pt\")\n",
    "    with torch.no_grad():\n",
    "        outputs = model.bert(**inputs)\n",
    "    cls_embeddings = outputs.last_hidden_state[:, 0, :].cpu().numpy()\n",
    "    cls_embeddings /= np.linalg.norm(cls_embeddings, axis=1, keepdims=True) + 1e-10\n",
    "    return cls_embeddings\n",
    "\n",
    "logs = [\n",
    "    \"ERROR: failed to connect to database\",\n",
    "    \"INFO: user login successful\",\n",
    "    \"WARN: disk space low\",\n",
    "]\n",
    "\n",
    "embeddings = get_log_embeddings(logs)\n",
    "print(\"Shape embeddings:\", embeddings.shape)"
   ]
  }
 ],
 "metadata": {
  "language_info": {
   "name": "python"
  }
 },
 "nbformat": 4,
 "nbformat_minor": 5
}
