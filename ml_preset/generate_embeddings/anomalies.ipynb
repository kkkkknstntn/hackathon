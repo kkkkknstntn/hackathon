{
 "cells": [
  {
   "cell_type": "code",
   "execution_count": null,
   "id": "f910e1d7",
   "metadata": {},
   "outputs": [],
   "source": [
    "import numpy as np\n",
    "import matplotlib.pyplot as plt\n",
    "from sklearn.cluster import KMeans, DBSCAN\n",
    "from sklearn.ensemble import IsolationForest\n",
    "from sklearn.neighbors import LocalOutlierFactor\n",
    "from sklearn.svm import OneClassSVM\n",
    "from sklearn.preprocessing import StandardScaler"
   ]
  },
  {
   "cell_type": "code",
   "execution_count": null,
   "id": "e92fe396",
   "metadata": {},
   "outputs": [],
   "source": [
    "## Взять эмбедеры из main.py"
   ]
  },
  {
   "cell_type": "code",
   "execution_count": null,
   "id": "33071d04",
   "metadata": {},
   "outputs": [],
   "source": [
    "logs = [\n",
    "    \"ERROR: failed to connect to database\",\n",
    "    \"INFO: user login successful\",\n",
    "    \"WARN: disk space low\",\n",
    "    # ... много логов ...\n",
    "]"
   ]
  },
  {
   "cell_type": "code",
   "execution_count": null,
   "id": "c5321c9e",
   "metadata": {},
   "outputs": [],
   "source": [
    "embedder = TfidfEmbedder(max_features=5000)\n",
    "log_embeddings = embedder.embed(logs)"
   ]
  },
  {
   "cell_type": "code",
   "execution_count": null,
   "id": "6442cb79",
   "metadata": {},
   "outputs": [],
   "source": [
    "n_clusters = 5\n",
    "kmeans = KMeans(n_clusters=n_clusters, random_state=42)\n",
    "clusters = kmeans.fit_predict(log_embeddings)"
   ]
  },
  {
   "cell_type": "code",
   "execution_count": null,
   "id": "0f6d0719",
   "metadata": {},
   "outputs": [],
   "source": [
    "dbscan = DBSCAN(eps=0.5, min_samples=5)\n",
    "dbscan_labels = dbscan.fit_predict(log_embeddings)"
   ]
  },
  {
   "cell_type": "code",
   "execution_count": null,
   "id": "efd3025a",
   "metadata": {},
   "outputs": [],
   "source": [
    "scaler = StandardScaler()\n",
    "embeddings_scaled = scaler.fit_transform(log_embeddings)"
   ]
  },
  {
   "cell_type": "code",
   "execution_count": null,
   "id": "b9a3fd9b",
   "metadata": {},
   "outputs": [],
   "source": [
    "iso_forest = IsolationForest(contamination=0.05, random_state=42)\n",
    "anomaly_scores_if = iso_forest.fit_predict(embeddings_scaled)"
   ]
  },
  {
   "cell_type": "code",
   "execution_count": null,
   "id": "40523e55",
   "metadata": {},
   "outputs": [],
   "source": [
    "lof = LocalOutlierFactor(n_neighbors=20, contamination=0.05)\n",
    "anomaly_scores_lof = lof.fit_predict(embeddings_scaled)"
   ]
  },
  {
   "cell_type": "code",
   "execution_count": null,
   "id": "90204925",
   "metadata": {},
   "outputs": [],
   "source": [
    "ocsvm = OneClassSVM(nu=0.05, kernel='rbf', gamma='scale')\n",
    "ocsvm.fit(embeddings_scaled)\n",
    "anomaly_scores_ocsvm = ocsvm.predict(embeddings_scaled)"
   ]
  },
  {
   "cell_type": "code",
   "execution_count": null,
   "id": "f1ff9146",
   "metadata": {},
   "outputs": [],
   "source": [
    "def plot_clusters(embeddings, labels, title='Кластеры'):\n",
    "    from sklearn.decomposition import PCA\n",
    "    pca = PCA(n_components=2)\n",
    "    emb_2d = pca.fit_transform(embeddings)\n",
    "    plt.figure(figsize=(8,6))\n",
    "    scatter = plt.scatter(emb_2d[:,0], emb_2d[:,1], c=labels, cmap='tab10')\n",
    "    plt.legend(*scatter.legend_elements(), title=\"Кластеры\")\n",
    "    plt.title(title)\n",
    "    plt.show()"
   ]
  },
  {
   "cell_type": "code",
   "execution_count": null,
   "id": "22050f4c",
   "metadata": {},
   "outputs": [],
   "source": [
    "plot_clusters(log_embeddings, clusters, title='KMeans Кластеры логов')\n",
    "plot_clusters(log_embeddings, dbscan_labels, title='DBSCAN Кластеры логов')"
   ]
  },
  {
   "cell_type": "code",
   "execution_count": null,
   "id": "81f0a615",
   "metadata": {},
   "outputs": [],
   "source": [
    "def print_anomalies(logs, scores, method_name):\n",
    "    print(f\"\\nАномалии по методу {method_name}:\")\n",
    "    for log, score in zip(logs, scores):\n",
    "        if score == -1:\n",
    "            print(f\"  {log}\")"
   ]
  },
  {
   "cell_type": "code",
   "execution_count": null,
   "id": "91b25d84",
   "metadata": {},
   "outputs": [],
   "source": [
    "print_anomalies(logs, anomaly_scores_if, \"Isolation Forest\")\n",
    "print_anomalies(logs, anomaly_scores_lof, \"Local Outlier Factor\")\n",
    "print_anomalies(logs, anomaly_scores_ocsvm, \"One-Class SVM\")"
   ]
  }
 ],
 "metadata": {
  "language_info": {
   "name": "python"
  }
 },
 "nbformat": 4,
 "nbformat_minor": 5
}
