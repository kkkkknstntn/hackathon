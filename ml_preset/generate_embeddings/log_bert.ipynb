{
 "cells": [
  {
   "cell_type": "code",
   "execution_count": null,
   "id": "8985a2c6",
   "metadata": {},
   "outputs": [],
   "source": [
    "from transformers import BertTokenizer, BertModel\n",
    "import torch\n",
    "import numpy as np"
   ]
  },
  {
   "cell_type": "markdown",
   "id": "7f83312d",
   "metadata": {},
   "source": [
    "Модель teoogherghi/Log-Analysis-Model-DistilBert — это fine-tuned версия distilbert-base-uncased, обученная для анализа логов.\n",
    "Ссылка: https://huggingface.co/teoogherghi/Log-Analysis-Model-DistilBert\n",
    "\n",
    "Также есть модель от пользователя Slavka, fine-tuned bert-base-cased для парсинга логов Windows:\n",
    "https://huggingface.co/Slavka/bert-base-cased-finetuned-log-parser-winlogbeat_nowhitespace\n",
    "\n",
    "https://par.nsf.gov/servlets/purl/10317798\n",
    "\n",
    "https://www.researchgate.net/publication/354743341_LogBERT_Log_Anomaly_Detection_via_BERT\n",
    "\n",
    "https://dr.ntu.edu.sg/bitstream/10356/181426/2/mathematics-12-02758-v2.pdf"
   ]
  },
  {
   "cell_type": "code",
   "execution_count": null,
   "id": "d1eff02f",
   "metadata": {},
   "outputs": [],
   "source": [
    "model_name = \"teoogherghi/Log-Analysis-Model-DistilBert\" "
   ]
  },
  {
   "cell_type": "code",
   "execution_count": null,
   "id": "61e1fc88",
   "metadata": {},
   "outputs": [],
   "source": [
    "tokenizer = BertTokenizer.from_pretrained(model_name)\n",
    "model = BertModel.from_pretrained(model_name)\n",
    "model.eval()"
   ]
  },
  {
   "cell_type": "code",
   "execution_count": null,
   "id": "04438efe",
   "metadata": {},
   "outputs": [],
   "source": [
    "def embed_logs(log_texts):\n",
    "    inputs = tokenizer(log_texts, padding=True, truncation=True, return_tensors=\"pt\")\n",
    "    with torch.no_grad():\n",
    "        outputs = model(**inputs)\n",
    "    embeddings = outputs.last_hidden_state[:,0,:].cpu().numpy()\n",
    "    embeddings /= np.linalg.norm(embeddings, axis=1, keepdims=True) + 1e-10\n",
    "    return embeddings"
   ]
  },
  {
   "cell_type": "code",
   "execution_count": null,
   "id": "b0d883ac",
   "metadata": {},
   "outputs": [],
   "source": [
    "logs = [\n",
    "    \"ERROR: failed to connect to database\",\n",
    "    \"INFO: user login successful\",\n",
    "    \"WARN: disk space low\",\n",
    "]"
   ]
  },
  {
   "cell_type": "code",
   "execution_count": null,
   "id": "7c5e4693",
   "metadata": {},
   "outputs": [],
   "source": [
    "embeddings = embed_logs(logs)\n",
    "print(embeddings.shape)"
   ]
  },
  {
   "cell_type": "markdown",
   "id": "dcb6052a",
   "metadata": {},
   "source": [
    "Детали для аномалий с LogBERT\n",
    "\n",
    "    Обучаешь модель на «нормальных» логах (masked LM).\n",
    "\n",
    "    Во время инференса считаешь вероятность (loss) предсказания токенов.\n",
    "\n",
    "    Логи с низкой вероятностью — аномальные.\n",
    "\n",
    "    Можно строить порог по loss и детектировать аномалии."
   ]
  }
 ],
 "metadata": {
  "language_info": {
   "name": "python"
  }
 },
 "nbformat": 4,
 "nbformat_minor": 5
}
